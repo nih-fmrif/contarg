{
 "cells": [
  {
   "cell_type": "code",
   "execution_count": null,
   "id": "7e2f7ed6-0931-427d-99bd-b6f86b9145a8",
   "metadata": {
    "tags": []
   },
   "outputs": [],
   "source": [
    "from pathlib import Path\n",
    "from pkg_resources import resource_filename\n",
    "from joblib import Parallel, delayed\n",
    "from joblib.externals.loky import set_loky_pickler\n",
    "from pathos.pools import ParallelPool\n",
    "import bids\n",
    "import numpy as np\n",
    "import pandas as pd\n",
    "from contarg.normgrid import (\n",
    "    get_prob_vine,\n",
    "    setup_uncert_sims,\n",
    "    run_clusters,\n",
    "    calc_stimgrid,\n",
    "    make_uncert_sims,\n",
    "    make_uncert_surfaces   \n",
    ")"
   ]
  },
  {
   "cell_type": "code",
   "execution_count": 46,
   "id": "34d9f2ae-09a2-41b7-8045-a86c472b5a9d",
   "metadata": {},
   "outputs": [],
   "source": [
    "#calc_stimgrid??"
   ]
  },
  {
   "cell_type": "code",
   "execution_count": 11,
   "id": "c2262a91-7255-40b3-8066-f34035b3e7ff",
   "metadata": {
    "tags": []
   },
   "outputs": [
    {
     "name": "stdout",
     "output_type": "stream",
     "text": [
      "['NDARINV1285PMCK', 'NDARINV1EECRFPM', 'NDARINV1EZ26N40', 'NDARINV1H7JEJW1', 'NDARINV2484CB0H', 'NDARINV2BW6G83G', 'NDARINV52XG9LJ3', 'NDARINV6UU2L6YJ', 'NDARINV7A5RDHVW', 'NDARINV7BTZH7L2', 'NDARINV7TV9UT40', 'NDARINV85UUUHN0', 'NDARINVC25XBH2T', 'NDARINVCVZ70012', 'NDARINVD5FWJDCY', 'NDARINVEN1P5RFL', 'NDARINVFPFM6B57', 'NDARINVG8VWC1TN', 'NDARINVGH5DHURH', 'NDARINVLMU4CC2J', 'NDARINVN394NEWK', 'NDARINVP9Y862GP', 'NDARINVPE5JBKJ3', 'NDARINVRZL7PGK1', 'NDARINVU3CF21GV', 'NDARINVU7WWPJ0M', 'NDARINVV104HFJY', 'NDARINVWFN7K4C5', 'NDARINVWP2U8M5Y', 'NDARINVX7KKFJ5E', 'NDARINVXTMW4PWB', 'NDARINVXZRDA6CJ', 'NDARINVYKVPYY2M']\n"
     ]
    }
   ],
   "source": [
    "plot=True\n",
    "magne_min_percentile = 99.9\n",
    "uncertainty_fwhm = 2\n",
    "nbootstraps = 100\n",
    "block_length = 45\n",
    "pairwise_sig_thresh = 0.1\n",
    "sw_thresh = 2\n",
    "mt_thresh = 60\n",
    "make_plots=True\n",
    "stimroi = \"expandedcoleBA46\"\n",
    "refroi= \"bilateralfullSGCsphere\"\n",
    "min_angle_motor_thresh = 30\n",
    "maxMT=80\n",
    "dist_std=2\n",
    "scalp_res = 2\n",
    "angle_std=2.5\n",
    "distancetoscalp=2\n",
    "overwrite = False\n",
    "\n",
    "\n",
    "subjects = []\n",
    "sessions = [1,2]\n",
    "smoothings = [2.55]\n",
    "fd_thresh = 0.3\n",
    "\n",
    "outdir = Path('/data/ENIGMA-MDD/BIDS/ABCD/derivatives/contarg_fmriprep_23-2')\n",
    "outdir.mkdir(exist_ok=True)\n",
    "anat_dir = outdir / 'anat_preproc'\n",
    "\n",
    "jobids = {}\n",
    "\n",
    "fmriprep_root = Path('/data/ENIGMA-MDD/BIDS/ABCD/derivatives/fmriprep-23-2-2/')\n",
    "bidslayout = bids.BIDSLayout(fmriprep_root,validate=False)\n",
    "if len(subjects) < 1:\n",
    "        subjects = bidslayout.get_subjects()\n",
    "print(subjects)\n",
    "#print(bidslayout)"
   ]
  },
  {
   "cell_type": "markdown",
   "id": "a0089238-1966-4e9a-8c85-7b2313d7e8a7",
   "metadata": {},
   "source": [
    "# Run Headmodel"
   ]
  },
  {
   "cell_type": "code",
   "execution_count": 48,
   "id": "b10d24f5-0e8e-4e58-961e-2b22805a9a63",
   "metadata": {
    "tags": []
   },
   "outputs": [],
   "source": [
    "# build headmodels"
   ]
  },
  {
   "cell_type": "code",
   "execution_count": 41,
   "id": "90af862c-9020-46ab-b305-1794aa7173de",
   "metadata": {
    "tags": []
   },
   "outputs": [
    {
     "name": "stdout",
     "output_type": "stream",
     "text": [
      "using T1w and T2w for NDARINV1285PMCK\n",
      "using T1w and T2w for NDARINV1EECRFPM\n",
      "using T1w and T2w for NDARINV1H7JEJW1\n",
      "using T1w and T2w for NDARINV52XG9LJ3\n",
      "using T1w and T2w for NDARINV6UU2L6YJ\n",
      "using T1w and T2w for NDARINV7BTZH7L2\n",
      "using T1w and T2w for NDARINV7TV9UT40\n",
      "using T1w and T2w for NDARINV85UUUHN0\n",
      "using T1w and T2w for NDARINVC25XBH2T\n",
      "using T1w and T2w for NDARINVCVZ70012\n",
      "using T1w and T2w for NDARINVD5FWJDCY\n",
      "using T1w and T2w for NDARINVFPFM6B57\n",
      "using T1w and T2w for NDARINVG8VWC1TN\n",
      "using T1w and T2w for NDARINVGH5DHURH\n",
      "using T1w and T2w for NDARINVLMU4CC2J\n",
      "using T1w and T2w for NDARINVN394NEWK\n",
      "using T1w and T2w for NDARINVP9Y862GP\n",
      "using T1w and T2w for NDARINVPE5JBKJ3\n",
      "using T1w and T2w for NDARINVRZL7PGK1\n",
      "using T1w and T2w for NDARINVV104HFJY\n",
      "using T1w and T2w for NDARINVWFN7K4C5\n",
      "using T1w and T2w for NDARINVWP2U8M5Y\n",
      "using T1w and T2w for NDARINVX7KKFJ5E\n",
      "using T1w and T2w for NDARINVXZRDA6CJ\n",
      "using T1w and T2w for NDARINVYKVPYY2M\n"
     ]
    }
   ],
   "source": [
    "cmds = []\n",
    "for hmsub in subjects:\n",
    "    for session in bidslayout.get_sessions(subject=hmsub):\n",
    "        #print(session)\n",
    "        #find T1w and T2w preproc\n",
    "        filesT1w =  bidslayout.get(subject=hmsub,\n",
    "                                         session=session,\n",
    "                                         extension=\".nii.gz\",\n",
    "                                         suffix=\"T1w\",\n",
    "                                         desc=\"preproc\",\n",
    "                                         space=None)\n",
    "        #print(filesT1w)\n",
    "        filesT2w =  bidslayout.get(subject=hmsub,\n",
    "                                         session=session,\n",
    "                                         extension=\".nii.gz\",\n",
    "                                         suffix=\"T2w\",\n",
    "                                         desc=\"preproc\",\n",
    "                                         space=None)\n",
    "        #print(filesT2w)\n",
    "        if len(filesT2w) < 1:\n",
    "            continue # This will skip only T1w since the surfaces are bad.\n",
    "            ses_out_dir = anat_dir /f'sub-{hmsub}'\n",
    "            ses_out_dir.mkdir(exist_ok=True, parents=True)\n",
    "            #proced_anat_dir = liston_root / f'sub-{hmsub}/anat'\n",
    "            # Will assume the first is the correct.\n",
    "            t1w_path = Path(filesT1w[0].path)\n",
    "            #t2w_path = proced_anat_dir / 'T1w/T2w_acpc_dc_restore.nii.gz'\n",
    "            hm_outdir = ses_out_dir / f\"HeadModel/m2m_{hmsub}\"\n",
    "        #if not hm_outdir.exists():\n",
    "            print(hm_outdir)\n",
    "            cmd = [\n",
    "                \"contarg\",\n",
    "                \"tans\",\n",
    "                \"headmodel\",\n",
    "                \"--t1\",\n",
    "                t1w_path.as_posix(),\n",
    "                \"--out-dir\",\n",
    "                ses_out_dir.as_posix(),\n",
    "                \"--subject\",\n",
    "                hmsub\n",
    "            ]\n",
    "            cmds.append(' '.join(cmd))\n",
    "            #print(cmds)\n",
    "        else :\n",
    "            print(f'using T1w and T2w for {hmsub}')\n",
    "            ses_out_dir = anat_dir /f'sub-{hmsub}'\n",
    "            ses_out_dir.mkdir(exist_ok=True, parents=True)\n",
    "            #proced_anat_dir = liston_root / f'sub-{hmsub}/anat'\n",
    "            t1w_path = Path(filesT1w[0].path)\n",
    "            t2w_path = Path(filesT2w[0].path)\n",
    "            hm_outdir = ses_out_dir / f\"HeadModel/m2m_{hmsub}\"\n",
    "            #if not hm_outdir.exists():\n",
    "            #print(hm_outdir)\n",
    "            cmd = [\n",
    "                \"contarg\",\n",
    "                \"tans\",\n",
    "                \"headmodel\",\n",
    "                \"--t1\",\n",
    "                t1w_path.as_posix(),\n",
    "                \"--t2\",\n",
    "                t2w_path.as_posix(),\n",
    "                \"--out-dir\",\n",
    "                ses_out_dir.as_posix(),\n",
    "                \"--subject\",\n",
    "                hmsub\n",
    "            ]\n",
    "            cmds.append(' '.join(cmd))"
   ]
  },
  {
   "cell_type": "code",
   "execution_count": 42,
   "id": "d1eabbc6-b471-40e3-959c-5f9d729c0c3a",
   "metadata": {},
   "outputs": [
    {
     "name": "stdout",
     "output_type": "stream",
     "text": [
      "25\n",
      "contarg tans headmodel --t1 /data/ENIGMA-MDD/BIDS/ABCD/derivatives/fmriprep-23-2-2/sub-NDARINVYKVPYY2M/ses-4yearfollowupyarm1/anat/sub-NDARINVYKVPYY2M_ses-4yearfollowupyarm1_desc-preproc_T1w.nii.gz --t2 /data/ENIGMA-MDD/BIDS/ABCD/derivatives/fmriprep-23-2-2/sub-NDARINVYKVPYY2M/ses-4yearfollowupyarm1/anat/sub-NDARINVYKVPYY2M_ses-4yearfollowupyarm1_run-24_desc-preproc_T2w.nii.gz --out-dir /data/ENIGMA-MDD/BIDS/ABCD/derivatives/contarg_fmriprep_23-2/anat_preproc/sub-NDARINVYKVPYY2M --subject NDARINVYKVPYY2M\n"
     ]
    }
   ],
   "source": [
    "print(len(cmds))\n",
    "print(cmds[24])"
   ]
  },
  {
   "cell_type": "code",
   "execution_count": 43,
   "id": "986ee8dc-1ad3-4fd3-ba0a-16ee350d47b7",
   "metadata": {
    "tags": []
   },
   "outputs": [],
   "source": [
    "swarm_cmd_dir = anat_dir/'swarm/swarm_cmds'\n",
    "swarm_cmd_dir.mkdir(exist_ok=True, parents=True)\n",
    "swarm_log_dir = anat_dir/'swarm/swarm_log'\n",
    "swarm_log_dir.mkdir(exist_ok=True, parents=True)"
   ]
  },
  {
   "cell_type": "code",
   "execution_count": 44,
   "id": "bd531196-6fda-46ca-9378-700a3993e452",
   "metadata": {
    "tags": []
   },
   "outputs": [
    {
     "name": "stdout",
     "output_type": "stream",
     "text": [
      "['24005064']\n"
     ]
    }
   ],
   "source": [
    "if len(cmds) > 0:\n",
    "    swarm_cmd_file = swarm_cmd_dir / 'headmodels'\n",
    "    \n",
    "    swarm_cmd_file.write_text('\\n'.join(cmds))\n",
    "    run_name = 'headmodels'\n",
    "    jobids[run_name] = ! swarm -f {swarm_cmd_file} -g 80 -t 22 --module matlab,freesurfer/6,fsl,simnibs/4.0,connectome-workbench,ANTs  --time 12:00:00 --logdir {swarm_log_dir} --job-name {run_name} --partition norm\n",
    "    print(jobids[run_name])"
   ]
  },
  {
   "cell_type": "markdown",
   "id": "652a4133-03d2-4a61-9b5b-1d07500e9588",
   "metadata": {},
   "source": [
    "# Run simulations for each point on the gyral lip"
   ]
  },
  {
   "cell_type": "code",
   "execution_count": 49,
   "id": "6052fac2-a499-4493-bd7d-71d153f8d0da",
   "metadata": {},
   "outputs": [],
   "source": [
    "import nibabel as nib\n",
    "a = nib.load('/data/ENIGMA-MDD/BIDS/ABCD/derivatives/fmriprep-23-2-2/sub-NDARINV1285PMCK/ses-4yearfollowupyarm1/anat/sub-NDARINV1285PMCK_ses-4yearfollowupyarm1_run-4_hemi-L_space-fsLR_desc-msmsulc_sphere.surf.gii')\n",
    "b = nib.load('/home/zugmana2/.cache/templateflow/tpl-fsLR/tpl-fsLR_hemi-L_den-32k_sphere.surf.gii')\n",
    "c = nib.load('/data/ENIGMA-MDD/BIDS/ABCD/derivatives/fmriprep-23-2-2/sub-NDARINV1285PMCK/ses-4yearfollowupyarm1/anat/sub-NDARINV1285PMCK_ses-4yearfollowupyarm1_run-4_hemi-L_midthickness.surf.gii')"
   ]
  },
  {
   "cell_type": "code",
   "execution_count": 50,
   "id": "c1fef3ff-326c-430f-827c-1969a7e4cf9c",
   "metadata": {},
   "outputs": [
    {
     "name": "stdout",
     "output_type": "stream",
     "text": [
      "(135760, 3)\n",
      "(32492, 3)\n",
      "(135760, 3)\n"
     ]
    }
   ],
   "source": [
    "print(a.agg_data()[0].shape)\n",
    "print(b.agg_data()[0].shape)\n",
    "print(c.agg_data()[0].shape)"
   ]
  },
  {
   "cell_type": "code",
   "execution_count": 52,
   "id": "844e34c8-228c-4bc6-b885-f3fd03ec64e5",
   "metadata": {
    "tags": []
   },
   "outputs": [
    {
     "name": "stdout",
     "output_type": "stream",
     "text": [
      "/data/ENIGMA-MDD/BIDS/ABCD/derivatives/contarg_fmriprep_23-2/anat_preproc/sub-NDARINV1285PMCK/HeadModel\n",
      "/data/ENIGMA-MDD/BIDS/ABCD/derivatives/contarg_fmriprep_23-2/anat_preproc/sub-NDARINV1EECRFPM/HeadModel\n",
      "sub-NDARINV1EECRFPM failed with value error:\n",
      "Scalp triangles are not arranged systematically\n",
      "/data/ENIGMA-MDD/BIDS/ABCD/derivatives/contarg_fmriprep_23-2/anat_preproc/sub-NDARINV1H7JEJW1/HeadModel\n",
      "sub-NDARINV1H7JEJW1 failed with value error:\n",
      "Scalp triangles are not arranged systematically\n",
      "/data/ENIGMA-MDD/BIDS/ABCD/derivatives/contarg_fmriprep_23-2/anat_preproc/sub-NDARINV52XG9LJ3/HeadModel\n",
      "/data/ENIGMA-MDD/BIDS/ABCD/derivatives/contarg_fmriprep_23-2/anat_preproc/sub-NDARINV6UU2L6YJ/HeadModel\n",
      "/data/ENIGMA-MDD/BIDS/ABCD/derivatives/contarg_fmriprep_23-2/anat_preproc/sub-NDARINV7BTZH7L2/HeadModel\n",
      "/data/ENIGMA-MDD/BIDS/ABCD/derivatives/contarg_fmriprep_23-2/anat_preproc/sub-NDARINV7TV9UT40/HeadModel\n",
      "/data/ENIGMA-MDD/BIDS/ABCD/derivatives/contarg_fmriprep_23-2/anat_preproc/sub-NDARINV85UUUHN0/HeadModel\n",
      "/data/ENIGMA-MDD/BIDS/ABCD/derivatives/contarg_fmriprep_23-2/anat_preproc/sub-NDARINVC25XBH2T/HeadModel\n",
      "/data/ENIGMA-MDD/BIDS/ABCD/derivatives/contarg_fmriprep_23-2/anat_preproc/sub-NDARINVCVZ70012/HeadModel\n",
      "/data/ENIGMA-MDD/BIDS/ABCD/derivatives/contarg_fmriprep_23-2/anat_preproc/sub-NDARINVD5FWJDCY/HeadModel\n",
      "/data/ENIGMA-MDD/BIDS/ABCD/derivatives/contarg_fmriprep_23-2/anat_preproc/sub-NDARINVFPFM6B57/HeadModel\n",
      "/data/ENIGMA-MDD/BIDS/ABCD/derivatives/contarg_fmriprep_23-2/anat_preproc/sub-NDARINVG8VWC1TN/HeadModel\n",
      "/data/ENIGMA-MDD/BIDS/ABCD/derivatives/contarg_fmriprep_23-2/anat_preproc/sub-NDARINVGH5DHURH/HeadModel\n",
      "/data/ENIGMA-MDD/BIDS/ABCD/derivatives/contarg_fmriprep_23-2/anat_preproc/sub-NDARINVLMU4CC2J/HeadModel\n",
      "/data/ENIGMA-MDD/BIDS/ABCD/derivatives/contarg_fmriprep_23-2/anat_preproc/sub-NDARINVN394NEWK/HeadModel\n",
      "/data/ENIGMA-MDD/BIDS/ABCD/derivatives/contarg_fmriprep_23-2/anat_preproc/sub-NDARINVP9Y862GP/HeadModel\n",
      "/data/ENIGMA-MDD/BIDS/ABCD/derivatives/contarg_fmriprep_23-2/anat_preproc/sub-NDARINVPE5JBKJ3/HeadModel\n",
      "/data/ENIGMA-MDD/BIDS/ABCD/derivatives/contarg_fmriprep_23-2/anat_preproc/sub-NDARINVRZL7PGK1/HeadModel\n",
      "/data/ENIGMA-MDD/BIDS/ABCD/derivatives/contarg_fmriprep_23-2/anat_preproc/sub-NDARINVV104HFJY/HeadModel\n",
      "/data/ENIGMA-MDD/BIDS/ABCD/derivatives/contarg_fmriprep_23-2/anat_preproc/sub-NDARINVWFN7K4C5/HeadModel\n",
      "/data/ENIGMA-MDD/BIDS/ABCD/derivatives/contarg_fmriprep_23-2/anat_preproc/sub-NDARINVWP2U8M5Y/HeadModel\n",
      "/data/ENIGMA-MDD/BIDS/ABCD/derivatives/contarg_fmriprep_23-2/anat_preproc/sub-NDARINVX7KKFJ5E/HeadModel\n",
      "/data/ENIGMA-MDD/BIDS/ABCD/derivatives/contarg_fmriprep_23-2/anat_preproc/sub-NDARINVXZRDA6CJ/HeadModel\n",
      "/data/ENIGMA-MDD/BIDS/ABCD/derivatives/contarg_fmriprep_23-2/anat_preproc/sub-NDARINVYKVPYY2M/HeadModel\n"
     ]
    }
   ],
   "source": [
    "#anat_dir\n",
    "\n",
    "for hmsub in subjects:\n",
    "    #if hmsub in [\"NDARINVU7WWPJ0M\"]:#\"NDARINV1H7JEJW1\"]:#,\"NDARINV2484CB0H\",\"NDARINV2BW6G83G\",\"NDARINV7BTZH7L2\",\"NDARINV85UUUHN0\",\"NDARINVV104HFJY\"]:\n",
    "    #    continue\n",
    "    for session in bidslayout.get_sessions(subject=hmsub):\n",
    "        #print(session)\n",
    "        if not Path(anat_dir / f'sub-{hmsub}').exists():\n",
    "            continue\n",
    "        filesT1w =  bidslayout.get(subject=hmsub,\n",
    "                                         session=session,\n",
    "                                         extension=\".nii.gz\",\n",
    "                                         suffix=\"T1w\",\n",
    "                                         desc=\"preproc\",\n",
    "                                         space=None)\n",
    "        fmriprepanat = filesT1w[0].dirname\n",
    "        #print(fmriprepanat)\n",
    "        src_surf_dir = ''\n",
    "        surf_info_dir = ''\n",
    "        grid_out_dir = anat_dir / f'sub-{hmsub}/SearchGrid'\n",
    "        grid_out_dir.mkdir(exist_ok=True, parents=True)\n",
    "        grid_out = grid_out_dir / 'SearchGrid.npy'\n",
    "        grid_out_figs = grid_out_dir / 'figures'\n",
    "        grid_out_figs.mkdir(exist_ok=True, parents=True)\n",
    "    \n",
    "        headmodel_dir = anat_dir /f'sub-{hmsub}/HeadModel'\n",
    "        sim_out_dir = anat_dir / f'sub-{hmsub}/Simulation'\n",
    "        # The anat dir here is the fmriprep anat?\n",
    " \n",
    "        print(headmodel_dir)\n",
    "        try:\n",
    "            #stimgrid = calc_stimgrid(subject, src_surf_dir, surf_info_dir, headmodel_dir, grid_out_dir, make_plots=True, overwrite=True)\n",
    "            stimgrid = calc_stimgrid(hmsub, src_surf_dir, surf_info_dir,\n",
    "                       headmodel_dir,\n",
    "                       grid_out_dir, make_plots=True, stimroi=\"expandedcoleBA46\",\n",
    "                       refroi= \"bilateralfullSGCsphere\", overwrite=True, fmriprep=True,\n",
    "                      layout=bidslayout, anat_dir=fmriprepanat)\n",
    "                      \n",
    "        except ValueError as e:\n",
    "            print(f\"sub-{hmsub} failed with value error:\")\n",
    "            print(e)\n",
    "        "
   ]
  },
  {
   "cell_type": "code",
   "execution_count": 53,
   "id": "75b37f37-6385-499e-9b3c-62412bf27ea8",
   "metadata": {
    "tags": []
   },
   "outputs": [
    {
     "name": "stdout",
     "output_type": "stream",
     "text": [
      "NDARINV1285PMCK\n",
      "NDARINV1EECRFPM\n",
      "NDARINV1H7JEJW1\n",
      "NDARINV52XG9LJ3\n",
      "NDARINV6UU2L6YJ\n",
      "NDARINV7BTZH7L2\n",
      "NDARINV7TV9UT40\n",
      "NDARINV85UUUHN0\n",
      "NDARINVC25XBH2T\n",
      "NDARINVCVZ70012\n",
      "NDARINVD5FWJDCY\n",
      "NDARINVFPFM6B57\n",
      "NDARINVG8VWC1TN\n",
      "NDARINVGH5DHURH\n",
      "NDARINVLMU4CC2J\n",
      "NDARINVN394NEWK\n",
      "NDARINVP9Y862GP\n",
      "NDARINVPE5JBKJ3\n",
      "NDARINVRZL7PGK1\n",
      "NDARINVV104HFJY\n",
      "NDARINVWFN7K4C5\n",
      "NDARINVWP2U8M5Y\n",
      "NDARINVX7KKFJ5E\n",
      "NDARINVXZRDA6CJ\n",
      "NDARINVYKVPYY2M\n"
     ]
    }
   ],
   "source": [
    "cmds = []\n",
    "\n",
    "for hmsub in subjects:\n",
    "    #if hmsub in [\"NDARINV1H7JEJW1\",\"NDARINV2484CB0H\",\"NDARINV2BW6G83G\",\"NDARINV7BTZH7L2\",\"NDARINV85UUUHN0\",\"NDARINVV104HFJY\"]:\n",
    "    #    continue\n",
    "    for session in bidslayout.get_sessions(subject=hmsub):\n",
    "        #print(session)\n",
    "        if not Path(anat_dir / f'sub-{hmsub}').exists():\n",
    "            continue\n",
    "        print(hmsub)\n",
    "        filesT1w =  bidslayout.get(subject=hmsub,\n",
    "                                         session=session,\n",
    "                                         extension=\".nii.gz\",\n",
    "                                         suffix=\"T1w\",\n",
    "                                         desc=\"preproc\",\n",
    "                                         space=None)\n",
    "        fmriprepanat = filesT1w[0].dirname\n",
    "        #print(fmriprepanat)\n",
    "        src_surf_dir = Path('')\n",
    "        surf_info_dir = Path('')\n",
    "        headmodel_dir = anat_dir /f'sub-{hmsub}/HeadModel'\n",
    "        searchgrid_dir = anat_dir /f'sub-{hmsub}/SearchGrid'\n",
    "        out_dir = anat_dir /f'sub-{hmsub}/Simulation'\n",
    "        cmd = [\n",
    "        'contarg',\n",
    "        'normgrid',\n",
    "        'sim-gyral-lip',\n",
    "        '--headmodel-dir',\n",
    "        headmodel_dir.as_posix(),\n",
    "        '--searchgrid-dir',\n",
    "        searchgrid_dir.as_posix(),\n",
    "        '--out-dir',\n",
    "        out_dir.as_posix(),\n",
    "        '--src-surf-dir',\n",
    "        src_surf_dir.as_posix(),\n",
    "        '--fmriprep-dir',\n",
    "        Path(fmriprep_root).as_posix(),\n",
    "        '--bids-dir',\n",
    "        Path(fmriprep_root).as_posix(),\n",
    "        '--anat-dir',\n",
    "        fmriprepanat,\n",
    "        '--surf_src',\n",
    "        'fmriprep',\n",
    "        '--njobs',\n",
    "        \"20\"\n",
    "        ]\n",
    "        cmds.append(' '.join(cmd))\n",
    "    \"\"\"\n",
    "for subject in subjects:\n",
    "    headmodel_dir = anat_dir /f'sub-{subject}/HeadModel'\n",
    "    searchgrid_dir = anat_dir /f'sub-{subject}/SearchGrid'\n",
    "    out_dir = anat_dir /f'sub-{subject}/Simulation'\n",
    "    src_surf_dir = liston_root / f'sub-{subject}/anat/T1w/fsaverage_LR32k/'\n",
    "\n",
    "    cmd = [\n",
    "        'contarg',\n",
    "        'normgrid',\n",
    "        'sim-gyral-lip',\n",
    "        '--headmodel-dir',\n",
    "        headmodel_dir.as_posix(),\n",
    "        '--searchgrid-dir',\n",
    "        searchgrid_dir.as_posix(),\n",
    "        '--out-dir',\n",
    "        out_dir.as_posix(),\n",
    "        '--src-surf-dir',\n",
    "        src_surf_dir.as_posix(),\n",
    "        '--njobs',\n",
    "        \"20\"\n",
    "    ]\n",
    "    cmds.append(' '.join(cmd))\n",
    " \n",
    "      --headmodel-dir PATH     Path to HeadModel directory.  [required]\n",
    "  --searchgrid-dir PATH    Path to SearchGrid directory.  [required]\n",
    "  --out-dir PATH           Path to write to.  [required]\n",
    "  --src-surf-dir PATH      Path in which to find subject surfaces.  [required]\n",
    "  --coil TEXT              Name of the coil if it's one of the ones that comes\n",
    "                           with simnibs, othewise the path to it.  [default:\n",
    "                           MagVenture_MCF-B65.ccd]\n",
    "  --distancetoscalp FLOAT  Distance in mm from the coil to the scalp.\n",
    "                           Default=2.  [default: 2]\n",
    "  --njobs INTEGER          Number of jobs to run in parallel to find targets\n",
    "                           [default: 1]\n",
    "  --surf_src TEXT          flag to indicate where data is coming from, options\n",
    "                           are liston or fmriprep  [default: liston]\n",
    "  --bids-dir PATH          Bids directory\n",
    "  --fmriprep-dir PATH      FMRIPREP directory\n",
    "  --anat-dir PATH          contarg anat outputs directory\n",
    "\"\"\""
   ]
  },
  {
   "cell_type": "code",
   "execution_count": 54,
   "id": "dd13eddf-5c28-46a4-9365-51810d63a6ab",
   "metadata": {},
   "outputs": [
    {
     "name": "stdout",
     "output_type": "stream",
     "text": [
      "25\n",
      "/data/ENIGMA-MDD/BIDS/ABCD/derivatives/contarg_fmriprep_23-2/anat_preproc\n"
     ]
    }
   ],
   "source": [
    "print(len(cmds))\n",
    "print(anat_dir)"
   ]
  },
  {
   "cell_type": "code",
   "execution_count": 55,
   "id": "ccade262-d623-4e38-a5ca-35e955283301",
   "metadata": {
    "tags": []
   },
   "outputs": [],
   "source": [
    "#liston_dir = Path('/data/EDB/TMSpilot/liston/')\n",
    "outdir = Path('/data/ENIGMA-MDD/BIDS/ABCD/derivatives/contarg_fmriprep_23-2')\n",
    "swarm_cmd_dir = outdir /'swarm/swarm_cmds'\n",
    "swarm_cmd_dir.mkdir(exist_ok=True, parents=True)\n",
    "swarm_log_dir = outdir/'swarm/swarm_log'\n",
    "swarm_log_dir.mkdir(exist_ok=True, parents=True)"
   ]
  },
  {
   "cell_type": "code",
   "execution_count": 56,
   "id": "9ebd1de8-cdf2-43f4-837a-257719eb8d48",
   "metadata": {
    "tags": []
   },
   "outputs": [
    {
     "name": "stdout",
     "output_type": "stream",
     "text": [
      "['24032565']\n"
     ]
    }
   ],
   "source": [
    "if len(cmds) > 0:\n",
    "    swarm_cmd_file = swarm_cmd_dir / 'gyral_opts'\n",
    "    swarm_cmd_file.write_text('\\n'.join(cmds))\n",
    "    run_name = 'gyral_opts'\n",
    "    jobid = ! swarm -f {swarm_cmd_file} -g 200 -t 22 --gres=lscratch:100 --module matlab,freesurfer/6.0,fsl,simnibs/4.0,connectome-workbench,openblas  --time 4:00:00 --logdir {swarm_log_dir} --job-name {run_name} --partition quick,norm\n",
    "    print(jobid)"
   ]
  },
  {
   "cell_type": "markdown",
   "id": "a0ff5b14-d601-46fe-b20a-4c3f74de7561",
   "metadata": {},
   "source": [
    "# Run simulations for positional uncertainty\n",
    "requires gyral lip simulations to be finished before running"
   ]
  },
  {
   "cell_type": "markdown",
   "id": "f0883adb-d1fe-4ae4-8e26-d96e6b797ff5",
   "metadata": {},
   "source": [
    "## set up dataframes with parameters for uncertainty runs"
   ]
  },
  {
   "cell_type": "code",
   "execution_count": 57,
   "id": "4a0393a2-fe42-4a7f-83a3-e5cb658218b9",
   "metadata": {},
   "outputs": [],
   "source": [
    "\n",
    "coil='MagVenture_MCF-B65.ccd'\n",
    "\n",
    "if not Path(coil).exists():\n",
    "    simnibs_coil_dir = Path(resource_filename('simnibs', 'resources/coil_models'))\n",
    "    coil_path = simnibs_coil_dir / f'Drakaki_BrainStim_2022/{coil}'\n",
    "    if not coil_path.exists():\n",
    "        coil_path = simnibs_coil_dir / f'legacy_and_other/{coil}'\n",
    "        if not coil_path.exists():\n",
    "            raise FileNotFoundError(f\"Could not find coil ({coil}) in {simnibs_coil_dir}.\")\n",
    "else:\n",
    "    coil_path = Path(coil)"
   ]
  },
  {
   "cell_type": "code",
   "execution_count": 58,
   "id": "0c7058bf-1d14-4a7d-85c1-8a81c4f1c022",
   "metadata": {},
   "outputs": [],
   "source": [
    "nsims = 1000\n",
    "uncert_deviations_path = anat_dir / f'uncert_deviations{nsims}.npy'\n",
    "if not uncert_deviations_path.exists():\n",
    "    uncert_deviations = make_uncert_sims(5, nsims, dist_std, angle_std)\n",
    "    np.save(uncert_deviations_path, uncert_deviations)\n",
    "vine = get_prob_vine(4, dist_std, angle_std)"
   ]
  },
  {
   "cell_type": "code",
   "execution_count": 66,
   "id": "8f332b9f-92e2-4eca-91d2-c39f0368abbf",
   "metadata": {},
   "outputs": [
    {
     "name": "stdout",
     "output_type": "stream",
     "text": [
      "/data/ENIGMA-MDD/BIDS/ABCD/derivatives/contarg_fmriprep_23-2/anat_preproc/sub-NDARINV1EECRFPM/Simulation/simulation-01 not found, skipping\n",
      "/data/ENIGMA-MDD/BIDS/ABCD/derivatives/contarg_fmriprep_23-2/anat_preproc/sub-NDARINV1H7JEJW1/Simulation/simulation-01 not found, skipping\n"
     ]
    }
   ],
   "source": [
    "jobs = []\n",
    "all_subjects = []\n",
    "for subject in subjects:\n",
    "    if not Path(anat_dir / f'sub-{subject}').exists():\n",
    "            continue\n",
    "    if subject in [\"NDARINV1285PMCK\"]:#subject failed previos step\n",
    "        continue\n",
    "    sim_dir = Path(anat_dir / f'sub-{subject}/Simulation/simulation-00')\n",
    "    if not sim_dir.exists():\n",
    "        sim_dir = Path(anat_dir / f'sub-{subject}/Simulation/simulation-01')\n",
    "        if not sim_dir.exists():\n",
    "            print(f\"{sim_dir} not found, skipping\")\n",
    "            continue\n",
    "    headmodel_dir = anat_dir / f'sub-{subject}/HeadModel'\n",
    "    jobs.append(delayed(setup_uncert_sims)(headmodel_dir, sim_dir, dist_std=dist_std, angle_std=angle_std, outname=f'uncert{nsims}', uncert_deviations_path=uncert_deviations_path))\n",
    "    all_subjects.append(subject)\n",
    "    "
   ]
  },
  {
   "cell_type": "code",
   "execution_count": 67,
   "id": "5a3e2e0b-31d0-46cd-a149-b923b6fab5d0",
   "metadata": {},
   "outputs": [
    {
     "name": "stderr",
     "output_type": "stream",
     "text": [
      "[Parallel(n_jobs=8)]: Using backend LokyBackend with 8 concurrent workers.\n",
      "[Parallel(n_jobs=8)]: Done   2 tasks      | elapsed:  5.9min\n",
      "[Parallel(n_jobs=8)]: Done  10 out of  22 | elapsed: 13.8min remaining: 16.5min\n",
      "[Parallel(n_jobs=8)]: Done  13 out of  22 | elapsed: 17.2min remaining: 11.9min\n",
      "/vf/users/ENIGMA-MDD/code/contargenv/lib/python3.9/site-packages/mixedvines/copula.py:572: RuntimeWarning: invalid value encountered in multiply\n",
      "  vals[neqz] = norm.cdf((nrvs[:, 0] - self.theta * nrvs[:, 1])\n",
      "[Parallel(n_jobs=8)]: Done  16 out of  22 | elapsed: 20.4min remaining:  7.7min\n",
      "[Parallel(n_jobs=8)]: Done  19 out of  22 | elapsed: 22.0min remaining:  3.5min\n"
     ]
    },
    {
     "name": "stdout",
     "output_type": "stream",
     "text": [
      "Calculating settings for 147 simulations.\n",
      "0, 25, 50, 75, 100, 125, Calculating settings for 114 simulations.\n",
      "0, 25, 50, 75, 100, Calculating settings for 155 simulations.\n",
      "0, 25, 50, 75, 100, 125, 150, Calculating settings for 112 simulations.\n",
      "0, 25, 50, 75, 100, Calculating settings for 77 simulations.\n",
      "0, 25, 50, 75, Calculating settings for 91 simulations.\n",
      "0, 25, 50, 75, Calculating settings for 115 simulations.\n",
      "0, 25, 50, 75, 100, "
     ]
    },
    {
     "name": "stderr",
     "output_type": "stream",
     "text": [
      "[Parallel(n_jobs=8)]: Done  22 out of  22 | elapsed: 26.2min finished\n"
     ]
    },
    {
     "name": "stdout",
     "output_type": "stream",
     "text": [
      "Calculating settings for 70 simulations.\n",
      "0, 25, 50, Calculating settings for 118 simulations.\n",
      "0, 25, 50, 75, 100, Calculating settings for 109 simulations.\n",
      "0, 25, 50, 75, 100, Calculating settings for 112 simulations.\n",
      "0, 25, 50, 75, 100, Calculating settings for 93 simulations.\n",
      "0, 25, 50, 75, Calculating settings for 95 simulations.\n",
      "0, 25, 50, 75, Calculating settings for 97 simulations.\n",
      "0, 25, 50, 75, Calculating settings for 105 simulations.\n",
      "0, 25, 50, 75, 100, Calculating settings for 134 simulations.\n",
      "0, 25, 50, 75, 100, 125, Calculating settings for 126 simulations.\n",
      "0, 25, 50, 75, 100, 125, Calculating settings for 99 simulations.\n",
      "0, 25, 50, 75, Calculating settings for 141 simulations.\n",
      "0, 25, 50, 75, 100, 125, Calculating settings for 134 simulations.\n",
      "0, 25, 50, 75, 100, 125, Calculating settings for 116 simulations.\n",
      "0, 25, 50, 75, 100, Calculating settings for 137 simulations.\n",
      "0, 25, 50, 75, 100, 125, "
     ]
    }
   ],
   "source": [
    "all_settings = Parallel(n_jobs=8, verbose=10)(jobs)"
   ]
  },
  {
   "cell_type": "code",
   "execution_count": 68,
   "id": "958bc544-e98f-49b8-a983-9763506b916a",
   "metadata": {},
   "outputs": [
    {
     "name": "stdout",
     "output_type": "stream",
     "text": [
      "22\n",
      "22\n"
     ]
    }
   ],
   "source": [
    "print(len(all_settings))\n",
    "print(len(all_subjects))"
   ]
  },
  {
   "cell_type": "code",
   "execution_count": 69,
   "id": "d26ea3c0-524b-4556-b9c0-8c64244c13b0",
   "metadata": {},
   "outputs": [],
   "source": [
    "cmds = []\n",
    "for (subject, settings_path) in zip(all_subjects, all_settings):\n",
    "    settings = pd.read_pickle(settings_path)\n",
    "    #print(f'{subject} has {settings}')\n",
    "    if not Path(anat_dir / f'sub-{subject}').exists():\n",
    "            continue\n",
    "    if subject in [\"NDARINV1285PMCK\"]:#subject failed previos step\n",
    "        continue\n",
    "    for oix in sorted(settings.oix.unique()):\n",
    "        sim_dir = Path(anat_dir / f'sub-{subject}/Simulation/simulation-00')\n",
    "        if not sim_dir.exists():\n",
    "            sim_dir = Path(anat_dir / f'sub-{subject}/Simulation/simulation-01')\n",
    "            if not sim_dir.exists():\n",
    "                print(f\"{sim_dir} not found, skipping\")\n",
    "        \n",
    "        HeadModel_dir = anat_dir / f'sub-{subject}/HeadModel'\n",
    "        try:\n",
    "            m2m_dir = sorted(HeadModel_dir.glob('m2m*'))[0]\n",
    "        except IndexError:\n",
    "            raise FileNotFoundError(f\"No m2m directory found in {HeadModel_dir}\")\n",
    "        headmesh_path = m2m_dir / f'{subject}.msh'\n",
    "        \n",
    "        uncert_dir = settings_path.parent\n",
    "        uncert_out = uncert_dir / f'oix-{oix:04d}_stat-abovethreshactprobs_magnE.nii.gz'\n",
    "        if not uncert_out.exists() or overwrite:\n",
    "            cmd = [\n",
    "                'contarg',\n",
    "                'normgrid',\n",
    "                'sim-uncert',\n",
    "                '--headmesh-path',\n",
    "                headmesh_path.as_posix(),\n",
    "                '--settings-path',\n",
    "                settings_path.as_posix(),\n",
    "                '--ix',\n",
    "                f'{oix}',\n",
    "                '--coil-path',\n",
    "                coil_path.as_posix(),\n",
    "                '--tmp-dir',\n",
    "                f'/lscratch/$SLURM_JOB_ID/uncertsim-{oix}',\n",
    "                '--out-dir',\n",
    "                settings_path.parent.as_posix(),\n",
    "                '--njobs',\n",
    "                f'20',\n",
    "                '--thresh-type=mt',\n",
    "                f'--min-thresh={mt_thresh}',\n",
    "                f'--max-thresh={maxMT}',\n",
    "                f'--max-mt={maxMT}',\n",
    "            ]\n",
    "            cmds.append(' '.join(cmd))"
   ]
  },
  {
   "cell_type": "code",
   "execution_count": 70,
   "id": "8ba4a4a9",
   "metadata": {
    "collapsed": false,
    "jupyter": {
     "outputs_hidden": false
    }
   },
   "outputs": [
    {
     "data": {
      "text/plain": [
       "'contarg normgrid sim-uncert --headmesh-path /data/ENIGMA-MDD/BIDS/ABCD/derivatives/contarg_fmriprep_23-2/anat_preproc/sub-NDARINV52XG9LJ3/HeadModel/m2m_NDARINV52XG9LJ3/NDARINV52XG9LJ3.msh --settings-path /data/ENIGMA-MDD/BIDS/ABCD/derivatives/contarg_fmriprep_23-2/anat_preproc/sub-NDARINV52XG9LJ3/Simulation/simulation-00/uncert1000/settings.pkl.gz --ix 22 --coil-path /vf/users/ENIGMA-MDD/code/contargenv/lib/python3.9/site-packages/simnibs/resources/coil_models/Drakaki_BrainStim_2022/MagVenture_MCF-B65.ccd --tmp-dir /lscratch/$SLURM_JOB_ID/uncertsim-22 --out-dir /data/ENIGMA-MDD/BIDS/ABCD/derivatives/contarg_fmriprep_23-2/anat_preproc/sub-NDARINV52XG9LJ3/Simulation/simulation-00/uncert1000 --njobs 20 --thresh-type=mt --min-thresh=60 --max-thresh=80 --max-mt=80'"
      ]
     },
     "execution_count": 70,
     "metadata": {},
     "output_type": "execute_result"
    }
   ],
   "source": [
    "cmds[22]"
   ]
  },
  {
   "cell_type": "code",
   "execution_count": 71,
   "id": "0ef05c25",
   "metadata": {
    "collapsed": false,
    "jupyter": {
     "outputs_hidden": false
    }
   },
   "outputs": [
    {
     "data": {
      "text/plain": [
       "2497"
      ]
     },
     "execution_count": 71,
     "metadata": {},
     "output_type": "execute_result"
    }
   ],
   "source": [
    "len(cmds)"
   ]
  },
  {
   "cell_type": "code",
   "execution_count": 75,
   "id": "9f035e6b-c51a-4efb-a695-68bff117e5d8",
   "metadata": {
    "scrolled": true
   },
   "outputs": [
    {
     "name": "stdout",
     "output_type": "stream",
     "text": [
      "/data/ENIGMA-MDD/BIDS/ABCD/derivatives/contarg_fmriprep_23-2/swarm/swarm_cmds/uncert_sims\n"
     ]
    }
   ],
   "source": [
    "# deal with 1000 job swarm limit\n",
    "# Use while loop instead.\n",
    "\n",
    "if len(cmds) > 0:\n",
    "    swarm_cmd_file = swarm_cmd_dir / 'uncert_sims'\n",
    "    print(swarm_cmd_file)\n",
    "    swarm_cmd_file.write_text('\\n'.join(cmds))\n",
    "    run_name = 'uncert_sims'\n",
    "    #jobid = ! swarm -f {swarm_cmd_file} -g 100 -t 22 --gres=lscratch:400 --module matlab,freesurfer/6.0,fsl,simnibs/4.0,connectome-workbench,openblas  --time 8:00:00 --logdir {swarm_log_dir} --job-name {run_name} --partition norm\n",
    "    #print(jobid)"
   ]
  },
  {
   "cell_type": "code",
   "execution_count": 22,
   "id": "1a5edf06-3ff2-434a-a75c-483444a6a713",
   "metadata": {},
   "outputs": [
    {
     "name": "stdout",
     "output_type": "stream",
     "text": [
      "['19610544']\n"
     ]
    }
   ],
   "source": [
    "if len(cmds) > 1000:\n",
    "    swarm_cmd_file = swarm_cmd_dir / 'uncert_sims'\n",
    "    swarm_cmd_file.write_text('\\n'.join(cmds[1000:]))\n",
    "    run_name = 'uncert_sims'\n",
    "    jobid = ! swarm -f {swarm_cmd_file} -g 100 -t 22 --gres=lscratch:400 --module matlab,freesurfer/6.0,fsl,simnibs/4.0,connectome-workbench,openblas  --time 8:00:00 --logdir {swarm_log_dir} --job-name {run_name} --partition norm\n",
    "    print(jobid)"
   ]
  },
  {
   "cell_type": "markdown",
   "id": "9b57c689-33ae-4bd2-b11c-66b2b18f1e15",
   "metadata": {},
   "source": [
    "## Here's code for restarting failues\n",
    "For currently unknown reasons, some jobs run slowly and time out. When rerun, those jobs complete without issue."
   ]
  },
  {
   "cell_type": "code",
   "execution_count": null,
   "id": "c5d9f671-ba69-42ab-9846-bb2a560a41d7",
   "metadata": {},
   "outputs": [],
   "source": [
    "to_restart = [\n",
    "    cmds[428],\n",
    "    cmds[209],\n",
    "    cmds[185],\n",
    "    cmds[181],\n",
    "    cmds[137],\n",
    "    cmds[114],\n",
    "    cmds[45],\n",
    "    cmds[41],\n",
    "    cmds[35],\n",
    "]\n",
    "to_restart"
   ]
  },
  {
   "cell_type": "code",
   "execution_count": null,
   "id": "cda6f022-8f12-4a8c-8a39-238d142dac5a",
   "metadata": {},
   "outputs": [],
   "source": [
    "if len(to_restart) > 0:\n",
    "    swarm_cmd_file = swarm_cmd_dir / 'retart_uncert_sims'\n",
    "    swarm_cmd_file.write_text('\\n'.join(to_restart))\n",
    "    run_name = 'restart_uncert_sims'\n",
    "    jobid = ! swarm -f {swarm_cmd_file} -g 100 -t 22 --gres=lscratch:400 --module matlab,freesurfer/6.0,fsl,simnibs/4.0,connectome-workbench,openblas  --time 4:00:00 --logdir {swarm_log_dir} --job-name {run_name} --partition quick,norm\n",
    "    print(jobid)"
   ]
  },
  {
   "cell_type": "markdown",
   "id": "d482d059",
   "metadata": {
    "collapsed": false,
    "jupyter": {
     "outputs_hidden": false
    }
   },
   "source": [
    " # Create surfaces from uncertainty sims"
   ]
  },
  {
   "cell_type": "code",
   "execution_count": 76,
   "id": "48ddce63",
   "metadata": {
    "collapsed": false,
    "jupyter": {
     "outputs_hidden": false
    }
   },
   "outputs": [
    {
     "name": "stdout",
     "output_type": "stream",
     "text": [
      "/data/ENIGMA-MDD/BIDS/ABCD/derivatives/contarg_fmriprep_23-2/anat_preproc/sub-NDARINV1EECRFPM/Simulation/simulation-01 not found, skipping\n"
     ]
    }
   ],
   "source": [
    "all_settings = []\n",
    "all_subjects = []\n",
    "for subject in subjects:\n",
    "    if not Path(anat_dir / f'sub-{subject}').exists():\n",
    "            continue\n",
    "    if subject in [\"NDARINV1H7JEJW1\",\"NDARINV1285PMCK\",\"NDARINV7BTZH7L2\"]:#subject failed previos step\n",
    "            continue\n",
    "    sim_dir = Path(anat_dir / f'sub-{subject}/Simulation/simulation-00')\n",
    "    if not sim_dir.exists():\n",
    "        sim_dir = Path(anat_dir / f'sub-{subject}/Simulation/simulation-01')\n",
    "        if not sim_dir.exists():\n",
    "            print(f\"{sim_dir} not found, skipping\")\n",
    "    uncert_dir = sim_dir / f'uncert{nsims}'\n",
    "    settings_path = uncert_dir / 'settings.pkl.gz'\n",
    "    all_settings.append(settings_path)\n",
    "    all_subjects.append(subject)"
   ]
  },
  {
   "cell_type": "code",
   "execution_count": 77,
   "id": "510cfd66-0711-4f71-989a-b3a74863804c",
   "metadata": {},
   "outputs": [
    {
     "name": "stdout",
     "output_type": "stream",
     "text": [
      "22\n",
      "22\n"
     ]
    }
   ],
   "source": [
    "print(len(all_settings))\n",
    "print(len(all_subjects))"
   ]
  },
  {
   "cell_type": "code",
   "execution_count": 78,
   "id": "33df4aba-5b6c-48dd-bdcf-4d649d0bde5e",
   "metadata": {},
   "outputs": [
    {
     "name": "stdout",
     "output_type": "stream",
     "text": [
      "NDARINV1EECRFPM\n",
      "NDARINV52XG9LJ3\n",
      "NDARINV6UU2L6YJ\n",
      "NDARINV7TV9UT40\n",
      "NDARINV85UUUHN0\n",
      "NDARINVC25XBH2T\n",
      "NDARINVCVZ70012\n",
      "NDARINVD5FWJDCY\n",
      "NDARINVFPFM6B57\n",
      "NDARINVG8VWC1TN\n",
      "NDARINVGH5DHURH\n",
      "NDARINVLMU4CC2J\n",
      "NDARINVN394NEWK\n",
      "NDARINVP9Y862GP\n",
      "NDARINVPE5JBKJ3\n",
      "NDARINVRZL7PGK1\n",
      "NDARINVV104HFJY\n",
      "NDARINVWFN7K4C5\n",
      "NDARINVWP2U8M5Y\n",
      "NDARINVX7KKFJ5E\n",
      "NDARINVXZRDA6CJ\n",
      "NDARINVYKVPYY2M\n"
     ]
    }
   ],
   "source": [
    "for (subject, settings_path) in zip(all_subjects, all_settings):\n",
    "    print(subject)\n",
    "    if not Path(anat_dir / f'sub-{subject}').exists():\n",
    "            continue\n",
    "    if subject in [\"NDARINV1H7JEJW1\",\"NDARINV1285PMCK\",\"NDARINV7BTZH7L2\"]:#subject failed previos step\n",
    "        continue\n",
    "    outfile = f'/data/ENIGMA-MDD/BIDS/ABCD/derivatives/contarg_fmriprep_23-2/anat_preproc/sub-{subject}/Simulation/simulation-00/uncert1000/sub-{subject}_space-fsLR_den-32k_desc-abovethreshactprobs_stat.dtseries.nii'\n",
    "    #print(Path(outfile))\n",
    "    if Path(outfile).is_file():\n",
    "        print('this exists')"
   ]
  },
  {
   "cell_type": "code",
   "execution_count": 83,
   "id": "2d2b89b2",
   "metadata": {
    "collapsed": false,
    "jupyter": {
     "outputs_hidden": false
    }
   },
   "outputs": [
    {
     "name": "stderr",
     "output_type": "stream",
     "text": [
      "++ 3dTcat: AFNI version=AFNI_24.1.02 (Apr  8 2024) [64-bit]\n",
      "\u001b[7m*+ WARNING:\u001b[0m Set TR of output dataset to 1.0 s\n",
      "++ elapsed time = 16.5 s\n",
      "++ 3dTcat: AFNI version=AFNI_24.1.02 (Apr  8 2024) [64-bit]\n",
      "\u001b[7m*+ WARNING:\u001b[0m Set TR of output dataset to 1.0 s\n",
      "++ elapsed time = 16.6 s\n",
      "++ 3dTcat: AFNI version=AFNI_24.1.02 (Apr  8 2024) [64-bit]\n",
      "\u001b[7m*+ WARNING:\u001b[0m Set TR of output dataset to 1.0 s\n",
      "++ elapsed time = 12.1 s\n",
      "++ 3dTcat: AFNI version=AFNI_24.1.02 (Apr  8 2024) [64-bit]\n",
      "\u001b[7m*+ WARNING:\u001b[0m Set TR of output dataset to 1.0 s\n",
      "++ elapsed time = 47.9 s\n",
      "++ 3dTcat: AFNI version=AFNI_24.1.02 (Apr  8 2024) [64-bit]\n",
      "\u001b[7m*+ WARNING:\u001b[0m Set TR of output dataset to 1.0 s\n",
      "++ elapsed time = 47.6 s\n",
      "++ 3dTcat: AFNI version=AFNI_24.1.02 (Apr  8 2024) [64-bit]\n",
      "\u001b[7m*+ WARNING:\u001b[0m Set TR of output dataset to 1.0 s\n",
      "++ elapsed time = 36.6 s\n",
      "++ 3dTcat: AFNI version=AFNI_24.1.02 (Apr  8 2024) [64-bit]\n",
      "\u001b[7m*+ WARNING:\u001b[0m Set TR of output dataset to 1.0 s\n",
      "++ elapsed time = 69.4 s\n",
      "++ 3dTcat: AFNI version=AFNI_24.1.02 (Apr  8 2024) [64-bit]\n",
      "\u001b[7m*+ WARNING:\u001b[0m Set TR of output dataset to 1.0 s\n",
      "++ elapsed time = 68.6 s\n",
      "++ 3dTcat: AFNI version=AFNI_24.1.02 (Apr  8 2024) [64-bit]\n",
      "\u001b[7m*+ WARNING:\u001b[0m Set TR of output dataset to 1.0 s\n",
      "++ elapsed time = 51.2 s\n",
      "++ 3dTcat: AFNI version=AFNI_24.1.02 (Apr  8 2024) [64-bit]\n",
      "\u001b[7m*+ WARNING:\u001b[0m Set TR of output dataset to 1.0 s\n",
      "++ elapsed time = 86.3 s\n",
      "++ 3dTcat: AFNI version=AFNI_24.1.02 (Apr  8 2024) [64-bit]\n",
      "\u001b[7m*+ WARNING:\u001b[0m Set TR of output dataset to 1.0 s\n",
      "++ elapsed time = 86.2 s\n",
      "++ 3dTcat: AFNI version=AFNI_24.1.02 (Apr  8 2024) [64-bit]\n",
      "\u001b[7m*+ WARNING:\u001b[0m Set TR of output dataset to 1.0 s\n",
      "++ elapsed time = 64.4 s\n",
      "++ 3dTcat: AFNI version=AFNI_24.1.02 (Apr  8 2024) [64-bit]\n",
      "\u001b[7m*+ WARNING:\u001b[0m Set TR of output dataset to 1.0 s\n",
      "++ elapsed time = 50.3 s\n",
      "++ 3dTcat: AFNI version=AFNI_24.1.02 (Apr  8 2024) [64-bit]\n",
      "\u001b[7m*+ WARNING:\u001b[0m Set TR of output dataset to 1.0 s\n",
      "++ elapsed time = 50.3 s\n",
      "++ 3dTcat: AFNI version=AFNI_24.1.02 (Apr  8 2024) [64-bit]\n",
      "\u001b[7m*+ WARNING:\u001b[0m Set TR of output dataset to 1.0 s\n",
      "++ elapsed time = 38.9 s\n",
      "++ 3dTcat: AFNI version=AFNI_24.1.02 (Apr  8 2024) [64-bit]\n",
      "\u001b[7m*+ WARNING:\u001b[0m Set TR of output dataset to 1.0 s\n",
      "++ elapsed time = 64.4 s\n",
      "++ 3dTcat: AFNI version=AFNI_24.1.02 (Apr  8 2024) [64-bit]\n",
      "\u001b[7m*+ WARNING:\u001b[0m Set TR of output dataset to 1.0 s\n",
      "++ elapsed time = 64.4 s\n",
      "++ 3dTcat: AFNI version=AFNI_24.1.02 (Apr  8 2024) [64-bit]\n",
      "\u001b[7m*+ WARNING:\u001b[0m Set TR of output dataset to 1.0 s\n",
      "++ elapsed time = 50.2 s\n",
      "++ 3dTcat: AFNI version=AFNI_24.1.02 (Apr  8 2024) [64-bit]\n",
      "\u001b[7m*+ WARNING:\u001b[0m Set TR of output dataset to 1.0 s\n",
      "++ elapsed time = 55.7 s\n",
      "++ 3dTcat: AFNI version=AFNI_24.1.02 (Apr  8 2024) [64-bit]\n",
      "\u001b[7m*+ WARNING:\u001b[0m Set TR of output dataset to 1.0 s\n",
      "++ elapsed time = 55.9 s\n",
      "++ 3dTcat: AFNI version=AFNI_24.1.02 (Apr  8 2024) [64-bit]\n",
      "\u001b[7m*+ WARNING:\u001b[0m Set TR of output dataset to 1.0 s\n",
      "++ elapsed time = 43.7 s\n",
      "++ 3dTcat: AFNI version=AFNI_24.1.02 (Apr  8 2024) [64-bit]\n",
      "\u001b[7m*+ WARNING:\u001b[0m Set TR of output dataset to 1.0 s\n",
      "++ elapsed time = 50.7 s\n",
      "++ 3dTcat: AFNI version=AFNI_24.1.02 (Apr  8 2024) [64-bit]\n",
      "\u001b[7m*+ WARNING:\u001b[0m Set TR of output dataset to 1.0 s\n",
      "++ elapsed time = 50.6 s\n",
      "++ 3dTcat: AFNI version=AFNI_24.1.02 (Apr  8 2024) [64-bit]\n",
      "\u001b[7m*+ WARNING:\u001b[0m Set TR of output dataset to 1.0 s\n",
      "++ elapsed time = 38.4 s\n",
      "++ 3dTcat: AFNI version=AFNI_24.1.02 (Apr  8 2024) [64-bit]\n",
      "\u001b[7m*+ WARNING:\u001b[0m Set TR of output dataset to 1.0 s\n",
      "++ elapsed time = 51.9 s\n",
      "++ 3dTcat: AFNI version=AFNI_24.1.02 (Apr  8 2024) [64-bit]\n",
      "\u001b[7m*+ WARNING:\u001b[0m Set TR of output dataset to 1.0 s\n",
      "++ elapsed time = 51.9 s\n",
      "++ 3dTcat: AFNI version=AFNI_24.1.02 (Apr  8 2024) [64-bit]\n",
      "\u001b[7m*+ WARNING:\u001b[0m Set TR of output dataset to 1.0 s\n",
      "++ elapsed time = 40.5 s\n",
      "++ 3dTcat: AFNI version=AFNI_24.1.02 (Apr  8 2024) [64-bit]\n",
      "\u001b[7m*+ WARNING:\u001b[0m Set TR of output dataset to 1.0 s\n",
      "++ elapsed time = 61.4 s\n",
      "++ 3dTcat: AFNI version=AFNI_24.1.02 (Apr  8 2024) [64-bit]\n",
      "\u001b[7m*+ WARNING:\u001b[0m Set TR of output dataset to 1.0 s\n",
      "++ elapsed time = 61.6 s\n",
      "++ 3dTcat: AFNI version=AFNI_24.1.02 (Apr  8 2024) [64-bit]\n",
      "\u001b[7m*+ WARNING:\u001b[0m Set TR of output dataset to 1.0 s\n",
      "++ elapsed time = 47.6 s\n",
      "++ 3dTcat: AFNI version=AFNI_24.1.02 (Apr  8 2024) [64-bit]\n",
      "\u001b[7m*+ WARNING:\u001b[0m Set TR of output dataset to 1.0 s\n",
      "++ elapsed time = 61.6 s\n",
      "++ 3dTcat: AFNI version=AFNI_24.1.02 (Apr  8 2024) [64-bit]\n",
      "\u001b[7m*+ WARNING:\u001b[0m Set TR of output dataset to 1.0 s\n",
      "++ elapsed time = 61.9 s\n",
      "++ 3dTcat: AFNI version=AFNI_24.1.02 (Apr  8 2024) [64-bit]\n",
      "\u001b[7m*+ WARNING:\u001b[0m Set TR of output dataset to 1.0 s\n",
      "++ elapsed time = 46.8 s\n",
      "++ 3dTcat: AFNI version=AFNI_24.1.02 (Apr  8 2024) [64-bit]\n",
      "\u001b[7m*+ WARNING:\u001b[0m Set TR of output dataset to 1.0 s\n",
      "++ elapsed time = 61.5 s\n",
      "++ 3dTcat: AFNI version=AFNI_24.1.02 (Apr  8 2024) [64-bit]\n",
      "\u001b[7m*+ WARNING:\u001b[0m Set TR of output dataset to 1.0 s\n",
      "++ elapsed time = 60.6 s\n",
      "++ 3dTcat: AFNI version=AFNI_24.1.02 (Apr  8 2024) [64-bit]\n",
      "\u001b[7m*+ WARNING:\u001b[0m Set TR of output dataset to 1.0 s\n",
      "++ elapsed time = 45.9 s\n",
      "++ 3dTcat: AFNI version=AFNI_24.1.02 (Apr  8 2024) [64-bit]\n",
      "\u001b[7m*+ WARNING:\u001b[0m Set TR of output dataset to 1.0 s\n",
      "++ elapsed time = 59.2 s\n",
      "++ 3dTcat: AFNI version=AFNI_24.1.02 (Apr  8 2024) [64-bit]\n",
      "\u001b[7m*+ WARNING:\u001b[0m Set TR of output dataset to 1.0 s\n",
      "++ elapsed time = 59.3 s\n",
      "++ 3dTcat: AFNI version=AFNI_24.1.02 (Apr  8 2024) [64-bit]\n",
      "\u001b[7m*+ WARNING:\u001b[0m Set TR of output dataset to 1.0 s\n",
      "++ elapsed time = 45.1 s\n",
      "++ 3dTcat: AFNI version=AFNI_24.1.02 (Apr  8 2024) [64-bit]\n",
      "\u001b[7m*+ WARNING:\u001b[0m Set TR of output dataset to 1.0 s\n",
      "++ elapsed time = 57.2 s\n",
      "++ 3dTcat: AFNI version=AFNI_24.1.02 (Apr  8 2024) [64-bit]\n",
      "\u001b[7m*+ WARNING:\u001b[0m Set TR of output dataset to 1.0 s\n",
      "++ elapsed time = 57.1 s\n",
      "++ 3dTcat: AFNI version=AFNI_24.1.02 (Apr  8 2024) [64-bit]\n",
      "\u001b[7m*+ WARNING:\u001b[0m Set TR of output dataset to 1.0 s\n",
      "++ elapsed time = 43.3 s\n",
      "++ 3dTcat: AFNI version=AFNI_24.1.02 (Apr  8 2024) [64-bit]\n",
      "\u001b[7m*+ WARNING:\u001b[0m Set TR of output dataset to 1.0 s\n",
      "++ elapsed time = 68.5 s\n",
      "++ 3dTcat: AFNI version=AFNI_24.1.02 (Apr  8 2024) [64-bit]\n",
      "\u001b[7m*+ WARNING:\u001b[0m Set TR of output dataset to 1.0 s\n",
      "++ elapsed time = 69.1 s\n",
      "++ 3dTcat: AFNI version=AFNI_24.1.02 (Apr  8 2024) [64-bit]\n",
      "\u001b[7m*+ WARNING:\u001b[0m Set TR of output dataset to 1.0 s\n",
      "++ elapsed time = 53.3 s\n",
      "++ 3dTcat: AFNI version=AFNI_24.1.02 (Apr  8 2024) [64-bit]\n",
      "\u001b[7m*+ WARNING:\u001b[0m Set TR of output dataset to 1.0 s\n",
      "++ elapsed time = 49.4 s\n",
      "++ 3dTcat: AFNI version=AFNI_24.1.02 (Apr  8 2024) [64-bit]\n",
      "\u001b[7m*+ WARNING:\u001b[0m Set TR of output dataset to 1.0 s\n",
      "++ elapsed time = 49.6 s\n",
      "++ 3dTcat: AFNI version=AFNI_24.1.02 (Apr  8 2024) [64-bit]\n",
      "\u001b[7m*+ WARNING:\u001b[0m Set TR of output dataset to 1.0 s\n",
      "++ elapsed time = 38.0 s\n",
      "++ 3dTcat: AFNI version=AFNI_24.1.02 (Apr  8 2024) [64-bit]\n",
      "\u001b[7m*+ WARNING:\u001b[0m Set TR of output dataset to 1.0 s\n",
      "++ elapsed time = 75.5 s\n",
      "++ 3dTcat: AFNI version=AFNI_24.1.02 (Apr  8 2024) [64-bit]\n",
      "\u001b[7m*+ WARNING:\u001b[0m Set TR of output dataset to 1.0 s\n",
      "++ elapsed time = 73.7 s\n",
      "++ 3dTcat: AFNI version=AFNI_24.1.02 (Apr  8 2024) [64-bit]\n",
      "\u001b[7m*+ WARNING:\u001b[0m Set TR of output dataset to 1.0 s\n",
      "++ elapsed time = 54.5 s\n",
      "++ 3dTcat: AFNI version=AFNI_24.1.02 (Apr  8 2024) [64-bit]\n",
      "\u001b[7m*+ WARNING:\u001b[0m Set TR of output dataset to 1.0 s\n",
      "++ elapsed time = 72.9 s\n",
      "++ 3dTcat: AFNI version=AFNI_24.1.02 (Apr  8 2024) [64-bit]\n",
      "\u001b[7m*+ WARNING:\u001b[0m Set TR of output dataset to 1.0 s\n",
      "++ elapsed time = 73.6 s\n",
      "++ 3dTcat: AFNI version=AFNI_24.1.02 (Apr  8 2024) [64-bit]\n",
      "\u001b[7m*+ WARNING:\u001b[0m Set TR of output dataset to 1.0 s\n",
      "++ elapsed time = 52.1 s\n"
     ]
    }
   ],
   "source": [
    "\n",
    "jobs = []\n",
    "for (subject, settings_path) in zip(all_subjects, all_settings):\n",
    "    if not Path(anat_dir / f'sub-{subject}').exists():\n",
    "            continue\n",
    "    if subject in [\"NDARINV1H7JEJW1\",\"NDARINV1285PMCK\",\"NDARINV7BTZH7L2\",\"NDARINV1EECRFPM\",\"NDARINV52XG9LJ3\", \"NDARINV6UU2L6YJ\", \"NDARINV7TV9UT40\"]:#subject failed previos step\n",
    "        continue\n",
    "    outfile = f'/data/ENIGMA-MDD/BIDS/ABCD/derivatives/contarg_fmriprep_23-2/anat_preproc/sub-{subject}/Simulation/simulation-00/uncert1000/sub-{subject}_space-fsLR_den-32k_desc-abovethreshactprobs_stat.dtseries.nii'\n",
    "    if Path(outfile).exists():\n",
    "        continue\n",
    "    filesT1w =  bidslayout.get(subject=subject,\n",
    "                                         #session=session,\n",
    "                                         extension=\".nii.gz\",\n",
    "                                         suffix=\"T1w\",\n",
    "                                         desc=\"preproc\",\n",
    "                                         space=None)\n",
    "    fmriprepanat = filesT1w[0].dirname\n",
    "    #src_surf_dir = liston_root / f'sub-{subject}/anat/T1w/fsaverage_LR32k/'\n",
    "    uncert_dir = settings_path.parent\n",
    "    #jobs.append(delayed(make_uncert_surfaces)(subject, Path(fmriprepanat), uncert_dir, overwrite=True, fmriprep=True,\n",
    "    #                                          anat_dir=Path(fmriprepanat)))\n",
    "    #print(subject)\n",
    "    make_uncert_surfaces(subject, Path(fmriprepanat), uncert_dir, overwrite=True, fmriprep=True,\n",
    "                                              layout=bidslayout,anat_dir=Path(fmriprepanat))\n"
   ]
  },
  {
   "cell_type": "code",
   "execution_count": 85,
   "id": "11427a3e-6e25-4e81-ab27-da3f594a6963",
   "metadata": {},
   "outputs": [
    {
     "name": "stdout",
     "output_type": "stream",
     "text": [
      "/data/ENIGMA-MDD/BIDS/ABCD/derivatives/contarg_fmriprep_23-2/anat_preproc/sub-NDARINV1EECRFPM/Simulation/simulation-01/uncert1000\n"
     ]
    }
   ],
   "source": [
    "print(uncert_dir)"
   ]
  },
  {
   "cell_type": "code",
   "execution_count": 14,
   "id": "cfd9b913",
   "metadata": {
    "collapsed": false,
    "jupyter": {
     "outputs_hidden": false
    }
   },
   "outputs": [],
   "source": [
    "#Parallel(n_jobs=10, verbose=10)(jobs)#PArallel not working with bidslayout. I'll just for loop.\n",
    "    "
   ]
  },
  {
   "cell_type": "markdown",
   "id": "f7a03ef7-64be-4f5d-86f0-bce215da0d7d",
   "metadata": {},
   "source": [
    "# Run repdist clustering on time series so we can get stats for each position\n",
    "\n",
    "This can be run in parallel with the gyral lip and uncertainty simulations above "
   ]
  },
  {
   "cell_type": "code",
   "execution_count": 13,
   "id": "945f7717-4510-470a-9e21-1471ea791e91",
   "metadata": {},
   "outputs": [],
   "source": [
    "layout = '/data/ENIGMA-MDD/BIDS/ABCD/derivatives/layout'\n",
    "#bidslayout.save('/data/ENIGMA-MDD/BIDS/ABCD/derivatives/layout')\n",
    "#layout2 = bids.BIDSLayout( database_path=layout)\n",
    "#layout2.files"
   ]
  },
  {
   "cell_type": "code",
   "execution_count": null,
   "id": "e44bf5c2-e36a-418f-bc0d-3ab00d429344",
   "metadata": {
    "tags": []
   },
   "outputs": [
    {
     "name": "stdout",
     "output_type": "stream",
     "text": [
      "NDARINV1EZ26N40\n",
      "12\n",
      "13\n",
      "5\n",
      "6\n",
      "7\n",
      "10\n",
      "3\n",
      "NDARINV2484CB0H\n",
      "11\n"
     ]
    },
    {
     "name": "stderr",
     "output_type": "stream",
     "text": [
      "/vf/users/ENIGMA-MDD/code/contargenv/lib/python3.9/site-packages/statsmodels/stats/multitest.py:186: RuntimeWarning: divide by zero encountered in log1p\n",
      "  np.log1p(-pvals))\n"
     ]
    },
    {
     "name": "stdout",
     "output_type": "stream",
     "text": [
      "4\n",
      "5\n",
      "6\n",
      "3\n",
      "9\n",
      "45\n",
      "611\n",
      "9999\n"
     ]
    },
    {
     "name": "stderr",
     "output_type": "stream",
     "text": [
      "/vf/users/ENIGMA-MDD/code/contarg/contarg/clustering.py:581: RuntimeWarning: More than 20 figures have been opened. Figures created through the pyplot interface (`matplotlib.pyplot.figure`) are retained until explicitly closed and may consume too much memory. (To control this warning, see the rcParam `figure.max_open_warning`). Consider using `matplotlib.pyplot.close()`.\n",
      "  fig, axes = plt.subplots(2, 1, figsize=(5, 10))\n"
     ]
    },
    {
     "name": "stdout",
     "output_type": "stream",
     "text": [
      "NDARINV2BW6G83G\n",
      "13\n",
      "14\n",
      "6\n",
      "7\n",
      "10\n",
      "3\n",
      "1314\n",
      "67\n",
      "9999\n",
      "NDARINV7A5RDHVW\n",
      "13\n",
      "14\n",
      "7\n",
      "8\n",
      "11\n",
      "3\n",
      "4\n",
      "5\n",
      "1314\n",
      "78\n",
      "9999\n",
      "NDARINV85UUUHN0\n",
      "4\n",
      "10\n",
      "21\n",
      "23\n",
      "8\n",
      "17\n",
      "2123\n",
      "810\n",
      "9999\n",
      "NDARINVC25XBH2T\n",
      "3\n",
      "20\n",
      "7\n",
      "9\n",
      "16\n",
      "79\n",
      "9999\n",
      "NDARINVCVZ70012\n",
      "4\n",
      "10\n",
      "21\n",
      "8\n",
      "17\n",
      "810\n",
      "9999\n",
      "NDARINVD5FWJDCY\n",
      "5\n",
      "11\n",
      "22\n",
      "24\n",
      "9\n",
      "18\n",
      "2224\n",
      "911\n",
      "9999\n",
      "NDARINVEN1P5RFL\n",
      "11\n"
     ]
    },
    {
     "name": "stderr",
     "output_type": "stream",
     "text": [
      "/vf/users/ENIGMA-MDD/code/contarg/contarg/clustering.py:112: UserWarning: the number of connected components of the connectivity matrix is 2 > 1. Completing it to avoid stopping the tree early.\n",
      "  connectivity, n_connected_components = _fix_connectivity(X_for_connected_components, connectivity, affinity='euclidean')\n"
     ]
    },
    {
     "name": "stdout",
     "output_type": "stream",
     "text": [
      "12\n"
     ]
    },
    {
     "name": "stderr",
     "output_type": "stream",
     "text": [
      "/vf/users/ENIGMA-MDD/code/contarg/contarg/clustering.py:112: UserWarning: the number of connected components of the connectivity matrix is 2 > 1. Completing it to avoid stopping the tree early.\n",
      "  connectivity, n_connected_components = _fix_connectivity(X_for_connected_components, connectivity, affinity='euclidean')\n"
     ]
    },
    {
     "name": "stdout",
     "output_type": "stream",
     "text": [
      "5\n"
     ]
    },
    {
     "name": "stderr",
     "output_type": "stream",
     "text": [
      "/vf/users/ENIGMA-MDD/code/contarg/contarg/clustering.py:112: UserWarning: the number of connected components of the connectivity matrix is 2 > 1. Completing it to avoid stopping the tree early.\n",
      "  connectivity, n_connected_components = _fix_connectivity(X_for_connected_components, connectivity, affinity='euclidean')\n"
     ]
    },
    {
     "name": "stdout",
     "output_type": "stream",
     "text": [
      "6\n"
     ]
    },
    {
     "name": "stderr",
     "output_type": "stream",
     "text": [
      "/vf/users/ENIGMA-MDD/code/contarg/contarg/clustering.py:112: UserWarning: the number of connected components of the connectivity matrix is 2 > 1. Completing it to avoid stopping the tree early.\n",
      "  connectivity, n_connected_components = _fix_connectivity(X_for_connected_components, connectivity, affinity='euclidean')\n"
     ]
    },
    {
     "name": "stdout",
     "output_type": "stream",
     "text": [
      "3\n",
      "9\n",
      "1112\n"
     ]
    },
    {
     "name": "stderr",
     "output_type": "stream",
     "text": [
      "/vf/users/ENIGMA-MDD/code/contarg/contarg/clustering.py:112: UserWarning: the number of connected components of the connectivity matrix is 2 > 1. Completing it to avoid stopping the tree early.\n",
      "  connectivity, n_connected_components = _fix_connectivity(X_for_connected_components, connectivity, affinity='euclidean')\n"
     ]
    },
    {
     "name": "stdout",
     "output_type": "stream",
     "text": [
      "56\n"
     ]
    },
    {
     "name": "stderr",
     "output_type": "stream",
     "text": [
      "/vf/users/ENIGMA-MDD/code/contarg/contarg/clustering.py:112: UserWarning: the number of connected components of the connectivity matrix is 2 > 1. Completing it to avoid stopping the tree early.\n",
      "  connectivity, n_connected_components = _fix_connectivity(X_for_connected_components, connectivity, affinity='euclidean')\n"
     ]
    },
    {
     "name": "stdout",
     "output_type": "stream",
     "text": [
      "9999\n"
     ]
    },
    {
     "name": "stderr",
     "output_type": "stream",
     "text": [
      "/vf/users/ENIGMA-MDD/code/contarg/contarg/clustering.py:112: UserWarning: the number of connected components of the connectivity matrix is 2 > 1. Completing it to avoid stopping the tree early.\n",
      "  connectivity, n_connected_components = _fix_connectivity(X_for_connected_components, connectivity, affinity='euclidean')\n"
     ]
    },
    {
     "name": "stdout",
     "output_type": "stream",
     "text": [
      "NDARINVFPFM6B57\n",
      "4\n",
      "10\n"
     ]
    },
    {
     "name": "stderr",
     "output_type": "stream",
     "text": [
      "/vf/users/ENIGMA-MDD/code/contargenv/lib/python3.9/site-packages/statsmodels/stats/multitest.py:186: RuntimeWarning: divide by zero encountered in log1p\n",
      "  np.log1p(-pvals))\n"
     ]
    },
    {
     "name": "stdout",
     "output_type": "stream",
     "text": [
      "21\n",
      "23\n",
      "8\n",
      "17\n",
      "2123\n",
      "810\n",
      "9999\n",
      "NDARINVG8VWC1TN\n",
      "4\n",
      "10\n",
      "21\n",
      "23\n",
      "8\n",
      "17\n",
      "2123\n",
      "810\n",
      "9999\n",
      "NDARINVGH5DHURH\n",
      "4\n",
      "10\n",
      "21\n",
      "8\n",
      "17\n",
      "810\n",
      "9999\n",
      "NDARINVLMU4CC2J\n",
      "4\n",
      "10\n"
     ]
    },
    {
     "name": "stderr",
     "output_type": "stream",
     "text": [
      "/vf/users/ENIGMA-MDD/code/contargenv/lib/python3.9/site-packages/statsmodels/stats/multitest.py:186: RuntimeWarning: divide by zero encountered in log1p\n",
      "  np.log1p(-pvals))\n"
     ]
    },
    {
     "name": "stdout",
     "output_type": "stream",
     "text": [
      "21\n",
      "23\n",
      "8\n",
      "17\n",
      "2123\n",
      "810\n",
      "9999\n",
      "NDARINVN394NEWK\n",
      "4\n",
      "19\n",
      "8\n",
      "9\n",
      "15\n",
      "89\n",
      "9999\n",
      "NDARINVP9Y862GP\n",
      "4\n",
      "10\n"
     ]
    },
    {
     "name": "stderr",
     "output_type": "stream",
     "text": [
      "/vf/users/ENIGMA-MDD/code/contargenv/lib/python3.9/site-packages/statsmodels/stats/multitest.py:186: RuntimeWarning: divide by zero encountered in log1p\n",
      "  np.log1p(-pvals))\n"
     ]
    },
    {
     "name": "stdout",
     "output_type": "stream",
     "text": [
      "22\n",
      "24\n",
      "8\n",
      "18\n",
      "2224\n",
      "810\n",
      "9999\n",
      "NDARINVPE5JBKJ3\n",
      "10\n",
      "21\n",
      "23\n",
      "8\n",
      "17\n",
      "45\n",
      "4\n",
      "2123\n",
      "810\n"
     ]
    },
    {
     "name": "stderr",
     "output_type": "stream",
     "text": [
      "/vf/users/ENIGMA-MDD/code/contargenv/lib/python3.9/site-packages/statsmodels/stats/multitest.py:186: RuntimeWarning: divide by zero encountered in log1p\n",
      "  np.log1p(-pvals))\n"
     ]
    },
    {
     "name": "stdout",
     "output_type": "stream",
     "text": [
      "9999\n",
      "NDARINVRZL7PGK1\n",
      "4\n",
      "10\n",
      "21\n",
      "8\n",
      "17\n",
      "810\n",
      "9999\n",
      "NDARINVU3CF21GV\n",
      "11\n",
      "5\n",
      "6\n",
      "3\n",
      "9\n",
      "56\n",
      "9999\n",
      "NDARINVU7WWPJ0M\n",
      "13\n",
      "14\n",
      "6\n"
     ]
    },
    {
     "name": "stderr",
     "output_type": "stream",
     "text": [
      "/vf/users/ENIGMA-MDD/code/contargenv/lib/python3.9/site-packages/statsmodels/stats/multitest.py:186: RuntimeWarning: divide by zero encountered in log1p\n",
      "  np.log1p(-pvals))\n"
     ]
    },
    {
     "name": "stdout",
     "output_type": "stream",
     "text": [
      "7\n",
      "10\n",
      "3\n",
      "1314\n",
      "67\n",
      "9999\n",
      "NDARINVV104HFJY\n",
      "4\n",
      "10\n"
     ]
    },
    {
     "name": "stderr",
     "output_type": "stream",
     "text": [
      "/vf/users/ENIGMA-MDD/code/contargenv/lib/python3.9/site-packages/statsmodels/stats/multitest.py:186: RuntimeWarning: divide by zero encountered in log1p\n",
      "  np.log1p(-pvals))\n"
     ]
    },
    {
     "name": "stdout",
     "output_type": "stream",
     "text": [
      "21\n",
      "23\n",
      "8\n",
      "17\n",
      "2123\n",
      "810\n",
      "9999\n",
      "NDARINVWFN7K4C5\n",
      "4\n",
      "12\n",
      "14\n",
      "25\n",
      "27\n",
      "8\n",
      "21\n",
      "1425\n",
      "812\n",
      "9999\n",
      "NDARINVWP2U8M5Y\n",
      "4\n",
      "10\n",
      "21\n",
      "23\n",
      "8\n",
      "17\n",
      "2123\n",
      "810\n",
      "9999\n",
      "NDARINVX7KKFJ5E\n",
      "4\n",
      "10\n",
      "21\n",
      "26\n",
      "8\n",
      "17\n",
      "2126\n",
      "810\n",
      "9999\n",
      "NDARINVXTMW4PWB\n",
      "3\n",
      "5\n",
      "NDARINVXZRDA6CJ\n",
      "4\n",
      "10\n"
     ]
    }
   ],
   "source": [
    "jobs = []\n",
    "clusts = []\n",
    "outdir = Path('/data/ENIGMA-MDD/BIDS/ABCD/derivatives/contarg_fmriprep_23-2/')\n",
    "smoothings = ['2.55']\n",
    "for subj in subjects: \n",
    "    if subj in [\"NDARINV1H7JEJW1\",\"NDARINV1285PMCK\",\"NDARINV7BTZH7L2\",\"NDARINV1EECRFPM\",\"NDARINV52XG9LJ3\", \"NDARINV6UU2L6YJ\", \"NDARINV7TV9UT40\"]:#subject failed previos step\n",
    "        continue\n",
    "    print(subj)\n",
    "    \n",
    "    for session in bidslayout.get_sessions(subject=subj):\n",
    "        for smoothing in smoothings:\n",
    "            subj_func_outdir =  outdir / f'func_preproc/sub-{subj}/'\n",
    "            ses_func_outdir = subj_func_outdir /  f'ses-{session}'\n",
    "            clust_outdir = ses_func_outdir / 'cluster'\n",
    "            #lrest_dir = liston_root / f'sub-{subject}/func/rest'\n",
    "            #concat_nii = lrest_dir / f'session_{session}/concatenated/Rest_session-{session}_OCME+MEICA+MGTR_Concatenated+SubcortRegression+SpatialSmoothing{smoothing}.dtseries.nii'\n",
    "            #src_surf_dir = liston_root / f'sub-{subject}/anat/T1w/fsaverage_LR32k'\n",
    "            filesT1w =  bidslayout.get(subject=subj,\n",
    "                                         #session=session,\n",
    "                                         extension=\".nii.gz\",\n",
    "                                         suffix=\"T1w\",\n",
    "                                         desc=\"preproc\",\n",
    "                                         space=None)\n",
    "            fmriprepanat = filesT1w[0].dirname\n",
    "            if len(bidslayout.get_runs(subject=subj, session=session)) == 0:\n",
    "                    runs = [None]\n",
    "            else:\n",
    "                    runs = bidslayout.get_runs(subject=subj, session=session)\n",
    "            for r in runs: \n",
    "                    print(r)\n",
    "                    func = bidslayout.get(subject=subj,\n",
    "                                                         session=session,\n",
    "                                                         extension=\".dtseries.nii\",\n",
    "                                                         suffix=\"bold\",\n",
    "                                                         #hemi=hemi,\n",
    "                                                         run = r,\n",
    "                                                         desc='AROMAGW',\n",
    "                                                         space='fsLR',\n",
    "                                                         regex_search=False,\n",
    "                                                         invalid_filters=\"allow\",\n",
    "                                                         return_type='filename')\n",
    "                    if len(func) < 1:\n",
    "                        continue\n",
    "                    run_clusters(\n",
    "                    subj,\n",
    "                    Path(func[0]),\n",
    "                    clust_outdir,\n",
    "                    Path(fmriprepanat),\n",
    "                    surf_source='fmriprep',\n",
    "                    out_prefix=f'sub-{subj}_ses-{session}_run-{r}_smoothing-{smoothing}_',\n",
    "                    overwrite=True,\n",
    "                    layout=bidslayout,\n",
    "                    anat_dir=Path(fmriprepanat)\n",
    "                    )\n",
    "            \n",
    "                    #jobs.append(delayed(run_clusters)(\n",
    "                    #            subj,\n",
    "                    #            Path(func[0]),\n",
    "                    #            clust_outdir,\n",
    "                    #            Path(fmriprepanat),\n",
    "                    #            surf_source='fmriprep',\n",
    "                    #            out_prefix=f'sub-{subj}_ses-{session}_run-{r}_smoothing-{smoothing}_',\n",
    "                    #            overwrite=True,\n",
    "                    #            layout=layout,\n",
    "                    #            anat_dir=Path(fmriprepanat)\n",
    "                    #            ))\n",
    "                    clusts.append(dict(\n",
    "                                    subject = subj,\n",
    "                                    session = session,\n",
    "                                    run=r,\n",
    "                                    smoothing = smoothing\n",
    "                                    ))\n",
    "\n",
    "\n",
    "#subject, concat_nii, clust_outdir, src_surf_dir,\n",
    "#                 surf_source='liston',\n",
    "#                 maxrepdist=0.2,\n",
    "#                 medial_wall=None,\n",
    "#                 refroi='bilateralfullSGCsphere',\n",
    "#                 stimroi='expandedcoleBA46',\n",
    "#                 out_prefix='',\n",
    "#                 layout=None,\n",
    "#                 anat_dir=None,\n",
    "#                 overwrite=False"
   ]
  },
  {
   "cell_type": "code",
   "execution_count": 15,
   "id": "5b9cba6c-0a5b-4c5a-b5f8-243ea35e9f32",
   "metadata": {
    "tags": []
   },
   "outputs": [
    {
     "name": "stderr",
     "output_type": "stream",
     "text": [
      "[Parallel(n_jobs=10)]: Using backend LokyBackend with 10 concurrent workers.\n"
     ]
    },
    {
     "ename": "TypeError",
     "evalue": "root argument must be a pathlib.Path (or a type that supports casting to pathlib.Path, such as string) specifying the directory containing the BIDS dataset.",
     "output_type": "error",
     "traceback": [
      "\u001b[0;31m---------------------------------------------------------------------------\u001b[0m",
      "\u001b[0;31m_RemoteTraceback\u001b[0m                          Traceback (most recent call last)",
      "\u001b[0;31m_RemoteTraceback\u001b[0m: \n\"\"\"\nTraceback (most recent call last):\n  File \"/vf/users/ENIGMA-MDD/code/contargenv/lib/python3.9/site-packages/bids/layout/validation.py\", line 60, in validate_root\n    root = Path(root)\n  File \"/vf/users/ENIGMA-MDD/code/contargenv/lib/python3.9/pathlib.py\", line 1082, in __new__\n    self = cls._from_parts(args, init=False)\n  File \"/vf/users/ENIGMA-MDD/code/contargenv/lib/python3.9/pathlib.py\", line 707, in _from_parts\n    drv, root, parts = self._parse_args(args)\n  File \"/vf/users/ENIGMA-MDD/code/contargenv/lib/python3.9/pathlib.py\", line 691, in _parse_args\n    a = os.fspath(a)\nTypeError: expected str, bytes or os.PathLike object, not NoneType\n\nDuring handling of the above exception, another exception occurred:\n\nTraceback (most recent call last):\n  File \"/vf/users/ENIGMA-MDD/code/contargenv/lib/python3.9/site-packages/joblib/externals/loky/process_executor.py\", line 463, in _process_worker\n    r = call_item()\n  File \"/vf/users/ENIGMA-MDD/code/contargenv/lib/python3.9/site-packages/joblib/externals/loky/process_executor.py\", line 291, in __call__\n    return self.fn(*self.args, **self.kwargs)\n  File \"/vf/users/ENIGMA-MDD/code/contargenv/lib/python3.9/site-packages/joblib/parallel.py\", line 589, in __call__\n    return [func(*args, **kwargs)\n  File \"/vf/users/ENIGMA-MDD/code/contargenv/lib/python3.9/site-packages/joblib/parallel.py\", line 589, in <listcomp>\n    return [func(*args, **kwargs)\n  File \"/vf/users/ENIGMA-MDD/code/contarg/contarg/normgrid.py\", line 1288, in run_clusters\n    surfaces = load_surfaces(subject=subject, layout=layout, anat_dir=anat_dir, overwrite=overwrite)\n  File \"/vf/users/ENIGMA-MDD/code/contarg/contarg/normgrid.py\", line 457, in load_surfaces\n    layout = bids.BIDSLayout( database_path=layout)\n  File \"/vf/users/ENIGMA-MDD/code/contargenv/lib/python3.9/site-packages/bids/layout/layout.py\", line 135, in __init__\n    root, description = validate_root(root, validate)\n  File \"/vf/users/ENIGMA-MDD/code/contargenv/lib/python3.9/site-packages/bids/layout/validation.py\", line 62, in validate_root\n    raise TypeError(\"root argument must be a pathlib.Path (or a type that \"\nTypeError: root argument must be a pathlib.Path (or a type that supports casting to pathlib.Path, such as string) specifying the directory containing the BIDS dataset.\n\"\"\"",
      "\nThe above exception was the direct cause of the following exception:\n",
      "\u001b[0;31mTypeError\u001b[0m                                 Traceback (most recent call last)",
      "Cell \u001b[0;32mIn[15], line 1\u001b[0m\n\u001b[0;32m----> 1\u001b[0m clustreses \u001b[38;5;241m=\u001b[39m \u001b[43mParallel\u001b[49m\u001b[43m(\u001b[49m\u001b[43mn_jobs\u001b[49m\u001b[38;5;241;43m=\u001b[39;49m\u001b[38;5;241;43m10\u001b[39;49m\u001b[43m,\u001b[49m\u001b[43m \u001b[49m\u001b[43mverbose\u001b[49m\u001b[38;5;241;43m=\u001b[39;49m\u001b[38;5;241;43m10\u001b[39;49m\u001b[43m)\u001b[49m\u001b[43m(\u001b[49m\u001b[43mjobs\u001b[49m\u001b[43m)\u001b[49m\n\u001b[1;32m      2\u001b[0m \u001b[38;5;66;03m# Parallel won't work with pybids.\u001b[39;00m\n\u001b[1;32m      3\u001b[0m \u001b[38;5;66;03m# One solution is to save and load in the functions... need more time to implement.\u001b[39;00m\n",
      "File \u001b[0;32m/vf/users/ENIGMA-MDD/code/contargenv/lib/python3.9/site-packages/joblib/parallel.py:1952\u001b[0m, in \u001b[0;36mParallel.__call__\u001b[0;34m(self, iterable)\u001b[0m\n\u001b[1;32m   1946\u001b[0m \u001b[38;5;66;03m# The first item from the output is blank, but it makes the interpreter\u001b[39;00m\n\u001b[1;32m   1947\u001b[0m \u001b[38;5;66;03m# progress until it enters the Try/Except block of the generator and\u001b[39;00m\n\u001b[1;32m   1948\u001b[0m \u001b[38;5;66;03m# reach the first `yield` statement. This starts the aynchronous\u001b[39;00m\n\u001b[1;32m   1949\u001b[0m \u001b[38;5;66;03m# dispatch of the tasks to the workers.\u001b[39;00m\n\u001b[1;32m   1950\u001b[0m \u001b[38;5;28mnext\u001b[39m(output)\n\u001b[0;32m-> 1952\u001b[0m \u001b[38;5;28;01mreturn\u001b[39;00m output \u001b[38;5;28;01mif\u001b[39;00m \u001b[38;5;28mself\u001b[39m\u001b[38;5;241m.\u001b[39mreturn_generator \u001b[38;5;28;01melse\u001b[39;00m \u001b[38;5;28;43mlist\u001b[39;49m\u001b[43m(\u001b[49m\u001b[43moutput\u001b[49m\u001b[43m)\u001b[49m\n",
      "File \u001b[0;32m/vf/users/ENIGMA-MDD/code/contargenv/lib/python3.9/site-packages/joblib/parallel.py:1595\u001b[0m, in \u001b[0;36mParallel._get_outputs\u001b[0;34m(self, iterator, pre_dispatch)\u001b[0m\n\u001b[1;32m   1592\u001b[0m     \u001b[38;5;28;01myield\u001b[39;00m\n\u001b[1;32m   1594\u001b[0m     \u001b[38;5;28;01mwith\u001b[39;00m \u001b[38;5;28mself\u001b[39m\u001b[38;5;241m.\u001b[39m_backend\u001b[38;5;241m.\u001b[39mretrieval_context():\n\u001b[0;32m-> 1595\u001b[0m         \u001b[38;5;28;01myield from\u001b[39;00m \u001b[38;5;28mself\u001b[39m\u001b[38;5;241m.\u001b[39m_retrieve()\n\u001b[1;32m   1597\u001b[0m \u001b[38;5;28;01mexcept\u001b[39;00m \u001b[38;5;167;01mGeneratorExit\u001b[39;00m:\n\u001b[1;32m   1598\u001b[0m     \u001b[38;5;66;03m# The generator has been garbage collected before being fully\u001b[39;00m\n\u001b[1;32m   1599\u001b[0m     \u001b[38;5;66;03m# consumed. This aborts the remaining tasks if possible and warn\u001b[39;00m\n\u001b[1;32m   1600\u001b[0m     \u001b[38;5;66;03m# the user if necessary.\u001b[39;00m\n\u001b[1;32m   1601\u001b[0m     \u001b[38;5;28mself\u001b[39m\u001b[38;5;241m.\u001b[39m_exception \u001b[38;5;241m=\u001b[39m \u001b[38;5;28;01mTrue\u001b[39;00m\n",
      "File \u001b[0;32m/vf/users/ENIGMA-MDD/code/contargenv/lib/python3.9/site-packages/joblib/parallel.py:1699\u001b[0m, in \u001b[0;36mParallel._retrieve\u001b[0;34m(self)\u001b[0m\n\u001b[1;32m   1692\u001b[0m \u001b[38;5;28;01mwhile\u001b[39;00m \u001b[38;5;28mself\u001b[39m\u001b[38;5;241m.\u001b[39m_wait_retrieval():\n\u001b[1;32m   1693\u001b[0m \n\u001b[1;32m   1694\u001b[0m     \u001b[38;5;66;03m# If the callback thread of a worker has signaled that its task\u001b[39;00m\n\u001b[1;32m   1695\u001b[0m     \u001b[38;5;66;03m# triggered an exception, or if the retrieval loop has raised an\u001b[39;00m\n\u001b[1;32m   1696\u001b[0m     \u001b[38;5;66;03m# exception (e.g. `GeneratorExit`), exit the loop and surface the\u001b[39;00m\n\u001b[1;32m   1697\u001b[0m     \u001b[38;5;66;03m# worker traceback.\u001b[39;00m\n\u001b[1;32m   1698\u001b[0m     \u001b[38;5;28;01mif\u001b[39;00m \u001b[38;5;28mself\u001b[39m\u001b[38;5;241m.\u001b[39m_aborting:\n\u001b[0;32m-> 1699\u001b[0m         \u001b[38;5;28;43mself\u001b[39;49m\u001b[38;5;241;43m.\u001b[39;49m\u001b[43m_raise_error_fast\u001b[49m\u001b[43m(\u001b[49m\u001b[43m)\u001b[49m\n\u001b[1;32m   1700\u001b[0m         \u001b[38;5;28;01mbreak\u001b[39;00m\n\u001b[1;32m   1702\u001b[0m     \u001b[38;5;66;03m# If the next job is not ready for retrieval yet, we just wait for\u001b[39;00m\n\u001b[1;32m   1703\u001b[0m     \u001b[38;5;66;03m# async callbacks to progress.\u001b[39;00m\n",
      "File \u001b[0;32m/vf/users/ENIGMA-MDD/code/contargenv/lib/python3.9/site-packages/joblib/parallel.py:1734\u001b[0m, in \u001b[0;36mParallel._raise_error_fast\u001b[0;34m(self)\u001b[0m\n\u001b[1;32m   1730\u001b[0m \u001b[38;5;66;03m# If this error job exists, immediatly raise the error by\u001b[39;00m\n\u001b[1;32m   1731\u001b[0m \u001b[38;5;66;03m# calling get_result. This job might not exists if abort has been\u001b[39;00m\n\u001b[1;32m   1732\u001b[0m \u001b[38;5;66;03m# called directly or if the generator is gc'ed.\u001b[39;00m\n\u001b[1;32m   1733\u001b[0m \u001b[38;5;28;01mif\u001b[39;00m error_job \u001b[38;5;129;01mis\u001b[39;00m \u001b[38;5;129;01mnot\u001b[39;00m \u001b[38;5;28;01mNone\u001b[39;00m:\n\u001b[0;32m-> 1734\u001b[0m     \u001b[43merror_job\u001b[49m\u001b[38;5;241;43m.\u001b[39;49m\u001b[43mget_result\u001b[49m\u001b[43m(\u001b[49m\u001b[38;5;28;43mself\u001b[39;49m\u001b[38;5;241;43m.\u001b[39;49m\u001b[43mtimeout\u001b[49m\u001b[43m)\u001b[49m\n",
      "File \u001b[0;32m/vf/users/ENIGMA-MDD/code/contargenv/lib/python3.9/site-packages/joblib/parallel.py:736\u001b[0m, in \u001b[0;36mBatchCompletionCallBack.get_result\u001b[0;34m(self, timeout)\u001b[0m\n\u001b[1;32m    730\u001b[0m backend \u001b[38;5;241m=\u001b[39m \u001b[38;5;28mself\u001b[39m\u001b[38;5;241m.\u001b[39mparallel\u001b[38;5;241m.\u001b[39m_backend\n\u001b[1;32m    732\u001b[0m \u001b[38;5;28;01mif\u001b[39;00m backend\u001b[38;5;241m.\u001b[39msupports_retrieve_callback:\n\u001b[1;32m    733\u001b[0m     \u001b[38;5;66;03m# We assume that the result has already been retrieved by the\u001b[39;00m\n\u001b[1;32m    734\u001b[0m     \u001b[38;5;66;03m# callback thread, and is stored internally. It's just waiting to\u001b[39;00m\n\u001b[1;32m    735\u001b[0m     \u001b[38;5;66;03m# be returned.\u001b[39;00m\n\u001b[0;32m--> 736\u001b[0m     \u001b[38;5;28;01mreturn\u001b[39;00m \u001b[38;5;28;43mself\u001b[39;49m\u001b[38;5;241;43m.\u001b[39;49m\u001b[43m_return_or_raise\u001b[49m\u001b[43m(\u001b[49m\u001b[43m)\u001b[49m\n\u001b[1;32m    738\u001b[0m \u001b[38;5;66;03m# For other backends, the main thread needs to run the retrieval step.\u001b[39;00m\n\u001b[1;32m    739\u001b[0m \u001b[38;5;28;01mtry\u001b[39;00m:\n",
      "File \u001b[0;32m/vf/users/ENIGMA-MDD/code/contargenv/lib/python3.9/site-packages/joblib/parallel.py:754\u001b[0m, in \u001b[0;36mBatchCompletionCallBack._return_or_raise\u001b[0;34m(self)\u001b[0m\n\u001b[1;32m    752\u001b[0m \u001b[38;5;28;01mtry\u001b[39;00m:\n\u001b[1;32m    753\u001b[0m     \u001b[38;5;28;01mif\u001b[39;00m \u001b[38;5;28mself\u001b[39m\u001b[38;5;241m.\u001b[39mstatus \u001b[38;5;241m==\u001b[39m TASK_ERROR:\n\u001b[0;32m--> 754\u001b[0m         \u001b[38;5;28;01mraise\u001b[39;00m \u001b[38;5;28mself\u001b[39m\u001b[38;5;241m.\u001b[39m_result\n\u001b[1;32m    755\u001b[0m     \u001b[38;5;28;01mreturn\u001b[39;00m \u001b[38;5;28mself\u001b[39m\u001b[38;5;241m.\u001b[39m_result\n\u001b[1;32m    756\u001b[0m \u001b[38;5;28;01mfinally\u001b[39;00m:\n",
      "\u001b[0;31mTypeError\u001b[0m: root argument must be a pathlib.Path (or a type that supports casting to pathlib.Path, such as string) specifying the directory containing the BIDS dataset."
     ]
    }
   ],
   "source": [
    "clustreses = Parallel(n_jobs=10, verbose=10)(jobs)\n",
    "# Parallel won't work with pybids.\n",
    "# One solution is to save and load in the functions... need more time to implement."
   ]
  },
  {
   "cell_type": "code",
   "execution_count": null,
   "id": "a6e4cddc-49da-4022-92ba-a965f844aeb1",
   "metadata": {},
   "outputs": [],
   "source": []
  }
 ],
 "metadata": {
  "kernelspec": {
   "display_name": "Python 3 (ipykernel)",
   "language": "python",
   "name": "python3"
  },
  "language_info": {
   "codemirror_mode": {
    "name": "ipython",
    "version": 3
   },
   "file_extension": ".py",
   "mimetype": "text/x-python",
   "name": "python",
   "nbconvert_exporter": "python",
   "pygments_lexer": "ipython3",
   "version": "3.9.15"
  }
 },
 "nbformat": 4,
 "nbformat_minor": 5
}
