{
 "cells": [
  {
   "cell_type": "code",
   "execution_count": 27,
   "id": "7e2f7ed6-0931-427d-99bd-b6f86b9145a8",
   "metadata": {
    "tags": []
   },
   "outputs": [],
   "source": [
    "from pathlib import Path\n",
    "from joblib import Parallel, delayed\n",
    "\n",
    "from contarg.utils import load_timeseries\n",
    "from contarg.normgrid import get_prob_vine, setup_uncert_sims, run_clusters, calc_stimgrid"
   ]
  },
  {
   "cell_type": "code",
   "execution_count": 19,
   "id": "c2262a91-7255-40b3-8066-f34035b3e7ff",
   "metadata": {
    "tags": []
   },
   "outputs": [],
   "source": [
    "plot=True\n",
    "magne_min_percentile = 99.9\n",
    "uncertainty_fwhm = 2\n",
    "nbootstraps = 100\n",
    "block_length = 45\n",
    "pairwise_sig_thresh = 0.1\n",
    "sw_thresh = 2\n",
    "mt_thresh = 60\n",
    "make_plots=True\n",
    "stimroi = \"expandedcoleBA46\"\n",
    "refroi= \"bilateralfullSGCsphere\"\n",
    "min_angle_motor_thresh = 30\n",
    "maxMT=80\n",
    "dist_std=2\n",
    "scalp_res = 2\n",
    "angle_std=2.5\n",
    "distancetoscalp=2\n",
    "overwrite = False\n",
    "\n",
    "\n",
    "subjects = ['24546', '24563', '24573', '24704', '24718', '24740', '24742']\n",
    "sessions = [1,2]\n",
    "smoothings = [2.55]\n",
    "fd_thresh = 0.3\n",
    "\n",
    "outdir = Path('/data/EDB/TMSpilot/derivatives/contarg_liston_ohbm2024')\n",
    "outdir.mkdir(exist_ok=True)\n",
    "jobids = {}\n",
    "\n",
    "liston_root = Path('/data/EDB/TMSpilot/liston')"
   ]
  },
  {
   "cell_type": "markdown",
   "id": "a0089238-1966-4e9a-8c85-7b2313d7e8a7",
   "metadata": {},
   "source": [
    "# Run Headmodel"
   ]
  },
  {
   "cell_type": "code",
   "execution_count": 11,
   "id": "aae7d916-7da3-488d-84e3-67fe000c4d09",
   "metadata": {
    "tags": []
   },
   "outputs": [
    {
     "name": "stdout",
     "output_type": "stream",
     "text": [
      "/data/EDB/TMSpilot/derivatives/contarg_liston_ohbm2024/anat_preproc/sub-24546/HeadModel/m2m_24546\n",
      "/data/EDB/TMSpilot/derivatives/contarg_liston_ohbm2024/anat_preproc/sub-24563/HeadModel/m2m_24563\n",
      "/data/EDB/TMSpilot/derivatives/contarg_liston_ohbm2024/anat_preproc/sub-24573/HeadModel/m2m_24573\n",
      "/data/EDB/TMSpilot/derivatives/contarg_liston_ohbm2024/anat_preproc/sub-24704/HeadModel/m2m_24704\n",
      "/data/EDB/TMSpilot/derivatives/contarg_liston_ohbm2024/anat_preproc/sub-24718/HeadModel/m2m_24718\n",
      "/data/EDB/TMSpilot/derivatives/contarg_liston_ohbm2024/anat_preproc/sub-24740/HeadModel/m2m_24740\n",
      "/data/EDB/TMSpilot/derivatives/contarg_liston_ohbm2024/anat_preproc/sub-24742/HeadModel/m2m_24742\n"
     ]
    }
   ],
   "source": [
    "# build headmodels\n",
    "cmds = []\n",
    "for hmsub in subjects:\n",
    "    session = 1\n",
    "    anat_dir = outdir / 'anat_preproc'\n",
    "    ses_out_dir = anat_dir /f'sub-{hmsub}'\n",
    "    ses_out_dir.mkdir(exist_ok=True, parents=True)\n",
    "    proced_anat_dir = liston_root / f'sub-{hmsub}/anat'\n",
    "    t1w_path = proced_anat_dir / 'T1w/T1w_acpc_dc_restore.nii.gz'\n",
    "    t2w_path = proced_anat_dir / 'T1w/T2w_acpc_dc_restore.nii.gz'\n",
    "    hm_outdir = ses_out_dir / f\"HeadModel/m2m_{hmsub}\"\n",
    "    #if not hm_outdir.exists():\n",
    "    print(hm_outdir)\n",
    "    cmd = [\n",
    "        \"contarg\",\n",
    "        \"tans\",\n",
    "        \"headmodel\",\n",
    "        \"--t1\",\n",
    "        t1w_path.as_posix(),\n",
    "        \"--t2\",\n",
    "        t2w_path.as_posix(),\n",
    "        \"--out-dir\",\n",
    "        ses_out_dir.as_posix(),\n",
    "        \"--subject\",\n",
    "        hmsub\n",
    "    ]\n",
    "    cmds.append(' '.join(cmd))"
   ]
  },
  {
   "cell_type": "code",
   "execution_count": 12,
   "id": "986ee8dc-1ad3-4fd3-ba0a-16ee350d47b7",
   "metadata": {
    "tags": []
   },
   "outputs": [],
   "source": [
    "swarm_cmd_dir = anat_dir/'swarm/swarm_cmds'\n",
    "swarm_cmd_dir.mkdir(exist_ok=True, parents=True)\n",
    "swarm_log_dir = anat_dir/'swarm/swarm_log'\n",
    "swarm_log_dir.mkdir(exist_ok=True, parents=True)"
   ]
  },
  {
   "cell_type": "code",
   "execution_count": 13,
   "id": "bd531196-6fda-46ca-9378-700a3993e452",
   "metadata": {
    "tags": []
   },
   "outputs": [
    {
     "name": "stdout",
     "output_type": "stream",
     "text": [
      "['13961288']\n"
     ]
    }
   ],
   "source": [
    "if len(cmds) > 0:\n",
    "    swarm_cmd_file = swarm_cmd_dir / 'headmodels'\n",
    "    \n",
    "    swarm_cmd_file.write_text('\\n'.join(cmds))\n",
    "    run_name = 'headmodels'\n",
    "    jobids[run_name] = ! swarm -f {swarm_cmd_file} -g 80 -t 22 --module matlab,freesurfer/6,fsl,simnibs/4.0,connectome-workbench,ANTs  --time 12:00:00 --logdir {swarm_log_dir} --job-name {run_name} --partition norm\n",
    "    print(jobids[run_name])"
   ]
  },
  {
   "cell_type": "markdown",
   "id": "652a4133-03d2-4a61-9b5b-1d07500e9588",
   "metadata": {},
   "source": [
    "# Run simulations for each point on the gyral lip"
   ]
  },
  {
   "cell_type": "code",
   "execution_count": 25,
   "id": "844e34c8-228c-4bc6-b885-f3fd03ec64e5",
   "metadata": {
    "tags": []
   },
   "outputs": [
    {
     "data": {
      "text/plain": [
       "PosixPath('/data/EDB/TMSpilot/derivatives/contarg_liston_ohbm2024/anat_preproc')"
      ]
     },
     "execution_count": 25,
     "metadata": {},
     "output_type": "execute_result"
    }
   ],
   "source": [
    "anat_dir"
   ]
  },
  {
   "cell_type": "code",
   "execution_count": 28,
   "id": "fa309da7-8232-47ca-9d0a-cddfe690264d",
   "metadata": {
    "tags": []
   },
   "outputs": [
    {
     "name": "stderr",
     "output_type": "stream",
     "text": [
      "/gpfs/gsfs10/users/MLDSST/nielsond/target_test/env/lib/python3.9/site-packages/seaborn/_oldcore.py:1498: FutureWarning: is_categorical_dtype is deprecated and will be removed in a future version. Use isinstance(dtype, CategoricalDtype) instead\n",
      "  if pd.api.types.is_categorical_dtype(vector):\n",
      "/gpfs/gsfs10/users/MLDSST/nielsond/target_test/env/lib/python3.9/site-packages/seaborn/_oldcore.py:1119: FutureWarning: use_inf_as_na option is deprecated and will be removed in a future version. Convert inf values to NaN before operating instead.\n",
      "  with pd.option_context('mode.use_inf_as_na', True):\n",
      "/gpfs/gsfs10/users/MLDSST/nielsond/target_test/env/lib/python3.9/site-packages/seaborn/_oldcore.py:1498: FutureWarning: is_categorical_dtype is deprecated and will be removed in a future version. Use isinstance(dtype, CategoricalDtype) instead\n",
      "  if pd.api.types.is_categorical_dtype(vector):\n",
      "/gpfs/gsfs10/users/MLDSST/nielsond/target_test/env/lib/python3.9/site-packages/seaborn/_oldcore.py:1119: FutureWarning: use_inf_as_na option is deprecated and will be removed in a future version. Convert inf values to NaN before operating instead.\n",
      "  with pd.option_context('mode.use_inf_as_na', True):\n",
      "/gpfs/gsfs10/users/MLDSST/nielsond/target_test/env/lib/python3.9/site-packages/seaborn/_oldcore.py:1498: FutureWarning: is_categorical_dtype is deprecated and will be removed in a future version. Use isinstance(dtype, CategoricalDtype) instead\n",
      "  if pd.api.types.is_categorical_dtype(vector):\n",
      "/gpfs/gsfs10/users/MLDSST/nielsond/target_test/env/lib/python3.9/site-packages/seaborn/_oldcore.py:1119: FutureWarning: use_inf_as_na option is deprecated and will be removed in a future version. Convert inf values to NaN before operating instead.\n",
      "  with pd.option_context('mode.use_inf_as_na', True):\n",
      "/gpfs/gsfs10/users/MLDSST/nielsond/target_test/env/lib/python3.9/site-packages/seaborn/_oldcore.py:1498: FutureWarning: is_categorical_dtype is deprecated and will be removed in a future version. Use isinstance(dtype, CategoricalDtype) instead\n",
      "  if pd.api.types.is_categorical_dtype(vector):\n",
      "/gpfs/gsfs10/users/MLDSST/nielsond/target_test/env/lib/python3.9/site-packages/seaborn/_oldcore.py:1119: FutureWarning: use_inf_as_na option is deprecated and will be removed in a future version. Convert inf values to NaN before operating instead.\n",
      "  with pd.option_context('mode.use_inf_as_na', True):\n",
      "/gpfs/gsfs10/users/MLDSST/nielsond/target_test/env/lib/python3.9/site-packages/seaborn/_oldcore.py:1498: FutureWarning: is_categorical_dtype is deprecated and will be removed in a future version. Use isinstance(dtype, CategoricalDtype) instead\n",
      "  if pd.api.types.is_categorical_dtype(vector):\n",
      "/gpfs/gsfs10/users/MLDSST/nielsond/target_test/env/lib/python3.9/site-packages/seaborn/_oldcore.py:1119: FutureWarning: use_inf_as_na option is deprecated and will be removed in a future version. Convert inf values to NaN before operating instead.\n",
      "  with pd.option_context('mode.use_inf_as_na', True):\n",
      "/gpfs/gsfs10/users/MLDSST/nielsond/target_test/env/lib/python3.9/site-packages/seaborn/_oldcore.py:1498: FutureWarning: is_categorical_dtype is deprecated and will be removed in a future version. Use isinstance(dtype, CategoricalDtype) instead\n",
      "  if pd.api.types.is_categorical_dtype(vector):\n",
      "/gpfs/gsfs10/users/MLDSST/nielsond/target_test/env/lib/python3.9/site-packages/seaborn/_oldcore.py:1119: FutureWarning: use_inf_as_na option is deprecated and will be removed in a future version. Convert inf values to NaN before operating instead.\n",
      "  with pd.option_context('mode.use_inf_as_na', True):\n"
     ]
    },
    {
     "name": "stdout",
     "output_type": "stream",
     "text": [
      "[[-0.0664401   0.11095559]\n",
      " [ 0.15728886 -0.10622279]\n",
      " [-0.06644716 -0.11287943]\n",
      " [ 0.15729591  0.11761223]]\n"
     ]
    },
    {
     "name": "stderr",
     "output_type": "stream",
     "text": [
      "/gpfs/gsfs10/users/MLDSST/nielsond/target_test/env/lib/python3.9/site-packages/seaborn/_oldcore.py:1498: FutureWarning: is_categorical_dtype is deprecated and will be removed in a future version. Use isinstance(dtype, CategoricalDtype) instead\n",
      "  if pd.api.types.is_categorical_dtype(vector):\n",
      "/gpfs/gsfs10/users/MLDSST/nielsond/target_test/env/lib/python3.9/site-packages/seaborn/_oldcore.py:1119: FutureWarning: use_inf_as_na option is deprecated and will be removed in a future version. Convert inf values to NaN before operating instead.\n",
      "  with pd.option_context('mode.use_inf_as_na', True):\n",
      "/gpfs/gsfs10/users/MLDSST/nielsond/target_test/env/lib/python3.9/site-packages/seaborn/_oldcore.py:1498: FutureWarning: is_categorical_dtype is deprecated and will be removed in a future version. Use isinstance(dtype, CategoricalDtype) instead\n",
      "  if pd.api.types.is_categorical_dtype(vector):\n",
      "/gpfs/gsfs10/users/MLDSST/nielsond/target_test/env/lib/python3.9/site-packages/seaborn/_oldcore.py:1119: FutureWarning: use_inf_as_na option is deprecated and will be removed in a future version. Convert inf values to NaN before operating instead.\n",
      "  with pd.option_context('mode.use_inf_as_na', True):\n",
      "/gpfs/gsfs10/users/MLDSST/nielsond/target_test/env/lib/python3.9/site-packages/seaborn/_oldcore.py:1498: FutureWarning: is_categorical_dtype is deprecated and will be removed in a future version. Use isinstance(dtype, CategoricalDtype) instead\n",
      "  if pd.api.types.is_categorical_dtype(vector):\n",
      "/gpfs/gsfs10/users/MLDSST/nielsond/target_test/env/lib/python3.9/site-packages/seaborn/_oldcore.py:1119: FutureWarning: use_inf_as_na option is deprecated and will be removed in a future version. Convert inf values to NaN before operating instead.\n",
      "  with pd.option_context('mode.use_inf_as_na', True):\n",
      "/gpfs/gsfs10/users/MLDSST/nielsond/target_test/env/lib/python3.9/site-packages/seaborn/_oldcore.py:1498: FutureWarning: is_categorical_dtype is deprecated and will be removed in a future version. Use isinstance(dtype, CategoricalDtype) instead\n",
      "  if pd.api.types.is_categorical_dtype(vector):\n",
      "/gpfs/gsfs10/users/MLDSST/nielsond/target_test/env/lib/python3.9/site-packages/seaborn/_oldcore.py:1119: FutureWarning: use_inf_as_na option is deprecated and will be removed in a future version. Convert inf values to NaN before operating instead.\n",
      "  with pd.option_context('mode.use_inf_as_na', True):\n",
      "/gpfs/gsfs10/users/MLDSST/nielsond/target_test/env/lib/python3.9/site-packages/seaborn/_oldcore.py:1498: FutureWarning: is_categorical_dtype is deprecated and will be removed in a future version. Use isinstance(dtype, CategoricalDtype) instead\n",
      "  if pd.api.types.is_categorical_dtype(vector):\n",
      "/gpfs/gsfs10/users/MLDSST/nielsond/target_test/env/lib/python3.9/site-packages/seaborn/_oldcore.py:1119: FutureWarning: use_inf_as_na option is deprecated and will be removed in a future version. Convert inf values to NaN before operating instead.\n",
      "  with pd.option_context('mode.use_inf_as_na', True):\n",
      "/gpfs/gsfs10/users/MLDSST/nielsond/target_test/env/lib/python3.9/site-packages/seaborn/_oldcore.py:1498: FutureWarning: is_categorical_dtype is deprecated and will be removed in a future version. Use isinstance(dtype, CategoricalDtype) instead\n",
      "  if pd.api.types.is_categorical_dtype(vector):\n",
      "/gpfs/gsfs10/users/MLDSST/nielsond/target_test/env/lib/python3.9/site-packages/seaborn/_oldcore.py:1119: FutureWarning: use_inf_as_na option is deprecated and will be removed in a future version. Convert inf values to NaN before operating instead.\n",
      "  with pd.option_context('mode.use_inf_as_na', True):\n",
      "/gpfs/gsfs10/users/MLDSST/nielsond/target_test/other_repos/confmap/confmap/confmap.py:593: UserWarning: Some image boundary edge lengths are non-positive.\n",
      "  warn('Some image boundary edge lengths are non-positive.')\n"
     ]
    },
    {
     "name": "stdout",
     "output_type": "stream",
     "text": [
      "[[ 0.00621657  0.0327    ]\n",
      " [ 0.03289798 -0.06017194]\n",
      " [-0.07204338 -0.04005214]\n",
      " [ 0.11115793  0.0125802 ]]\n"
     ]
    },
    {
     "name": "stderr",
     "output_type": "stream",
     "text": [
      "/gpfs/gsfs10/users/MLDSST/nielsond/target_test/env/lib/python3.9/site-packages/seaborn/_oldcore.py:1498: FutureWarning: is_categorical_dtype is deprecated and will be removed in a future version. Use isinstance(dtype, CategoricalDtype) instead\n",
      "  if pd.api.types.is_categorical_dtype(vector):\n",
      "/gpfs/gsfs10/users/MLDSST/nielsond/target_test/env/lib/python3.9/site-packages/seaborn/_oldcore.py:1119: FutureWarning: use_inf_as_na option is deprecated and will be removed in a future version. Convert inf values to NaN before operating instead.\n",
      "  with pd.option_context('mode.use_inf_as_na', True):\n",
      "/gpfs/gsfs10/users/MLDSST/nielsond/target_test/env/lib/python3.9/site-packages/seaborn/_oldcore.py:1498: FutureWarning: is_categorical_dtype is deprecated and will be removed in a future version. Use isinstance(dtype, CategoricalDtype) instead\n",
      "  if pd.api.types.is_categorical_dtype(vector):\n",
      "/gpfs/gsfs10/users/MLDSST/nielsond/target_test/env/lib/python3.9/site-packages/seaborn/_oldcore.py:1119: FutureWarning: use_inf_as_na option is deprecated and will be removed in a future version. Convert inf values to NaN before operating instead.\n",
      "  with pd.option_context('mode.use_inf_as_na', True):\n",
      "/gpfs/gsfs10/users/MLDSST/nielsond/target_test/env/lib/python3.9/site-packages/seaborn/_oldcore.py:1498: FutureWarning: is_categorical_dtype is deprecated and will be removed in a future version. Use isinstance(dtype, CategoricalDtype) instead\n",
      "  if pd.api.types.is_categorical_dtype(vector):\n",
      "/gpfs/gsfs10/users/MLDSST/nielsond/target_test/env/lib/python3.9/site-packages/seaborn/_oldcore.py:1119: FutureWarning: use_inf_as_na option is deprecated and will be removed in a future version. Convert inf values to NaN before operating instead.\n",
      "  with pd.option_context('mode.use_inf_as_na', True):\n",
      "/gpfs/gsfs10/users/MLDSST/nielsond/target_test/env/lib/python3.9/site-packages/seaborn/_oldcore.py:1498: FutureWarning: is_categorical_dtype is deprecated and will be removed in a future version. Use isinstance(dtype, CategoricalDtype) instead\n",
      "  if pd.api.types.is_categorical_dtype(vector):\n",
      "/gpfs/gsfs10/users/MLDSST/nielsond/target_test/env/lib/python3.9/site-packages/seaborn/_oldcore.py:1119: FutureWarning: use_inf_as_na option is deprecated and will be removed in a future version. Convert inf values to NaN before operating instead.\n",
      "  with pd.option_context('mode.use_inf_as_na', True):\n",
      "/gpfs/gsfs10/users/MLDSST/nielsond/target_test/env/lib/python3.9/site-packages/seaborn/_oldcore.py:1498: FutureWarning: is_categorical_dtype is deprecated and will be removed in a future version. Use isinstance(dtype, CategoricalDtype) instead\n",
      "  if pd.api.types.is_categorical_dtype(vector):\n",
      "/gpfs/gsfs10/users/MLDSST/nielsond/target_test/env/lib/python3.9/site-packages/seaborn/_oldcore.py:1119: FutureWarning: use_inf_as_na option is deprecated and will be removed in a future version. Convert inf values to NaN before operating instead.\n",
      "  with pd.option_context('mode.use_inf_as_na', True):\n",
      "/gpfs/gsfs10/users/MLDSST/nielsond/target_test/env/lib/python3.9/site-packages/seaborn/_oldcore.py:1498: FutureWarning: is_categorical_dtype is deprecated and will be removed in a future version. Use isinstance(dtype, CategoricalDtype) instead\n",
      "  if pd.api.types.is_categorical_dtype(vector):\n",
      "/gpfs/gsfs10/users/MLDSST/nielsond/target_test/env/lib/python3.9/site-packages/seaborn/_oldcore.py:1119: FutureWarning: use_inf_as_na option is deprecated and will be removed in a future version. Convert inf values to NaN before operating instead.\n",
      "  with pd.option_context('mode.use_inf_as_na', True):\n",
      "/gpfs/gsfs10/users/MLDSST/nielsond/target_test/other_repos/confmap/confmap/confmap.py:593: UserWarning: Some image boundary edge lengths are non-positive.\n",
      "  warn('Some image boundary edge lengths are non-positive.')\n"
     ]
    },
    {
     "name": "stdout",
     "output_type": "stream",
     "text": [
      "[[-0.09427558  0.08573771]\n",
      " [ 0.18042507 -0.09624108]\n",
      " [-0.02147814 -0.10269557]\n",
      " [ 0.10762763  0.09219219]]\n"
     ]
    },
    {
     "name": "stderr",
     "output_type": "stream",
     "text": [
      "/gpfs/gsfs10/users/MLDSST/nielsond/target_test/env/lib/python3.9/site-packages/seaborn/_oldcore.py:1498: FutureWarning: is_categorical_dtype is deprecated and will be removed in a future version. Use isinstance(dtype, CategoricalDtype) instead\n",
      "  if pd.api.types.is_categorical_dtype(vector):\n",
      "/gpfs/gsfs10/users/MLDSST/nielsond/target_test/env/lib/python3.9/site-packages/seaborn/_oldcore.py:1119: FutureWarning: use_inf_as_na option is deprecated and will be removed in a future version. Convert inf values to NaN before operating instead.\n",
      "  with pd.option_context('mode.use_inf_as_na', True):\n",
      "/gpfs/gsfs10/users/MLDSST/nielsond/target_test/env/lib/python3.9/site-packages/seaborn/_oldcore.py:1498: FutureWarning: is_categorical_dtype is deprecated and will be removed in a future version. Use isinstance(dtype, CategoricalDtype) instead\n",
      "  if pd.api.types.is_categorical_dtype(vector):\n",
      "/gpfs/gsfs10/users/MLDSST/nielsond/target_test/env/lib/python3.9/site-packages/seaborn/_oldcore.py:1119: FutureWarning: use_inf_as_na option is deprecated and will be removed in a future version. Convert inf values to NaN before operating instead.\n",
      "  with pd.option_context('mode.use_inf_as_na', True):\n",
      "/gpfs/gsfs10/users/MLDSST/nielsond/target_test/env/lib/python3.9/site-packages/seaborn/_oldcore.py:1498: FutureWarning: is_categorical_dtype is deprecated and will be removed in a future version. Use isinstance(dtype, CategoricalDtype) instead\n",
      "  if pd.api.types.is_categorical_dtype(vector):\n",
      "/gpfs/gsfs10/users/MLDSST/nielsond/target_test/env/lib/python3.9/site-packages/seaborn/_oldcore.py:1119: FutureWarning: use_inf_as_na option is deprecated and will be removed in a future version. Convert inf values to NaN before operating instead.\n",
      "  with pd.option_context('mode.use_inf_as_na', True):\n",
      "/gpfs/gsfs10/users/MLDSST/nielsond/target_test/env/lib/python3.9/site-packages/seaborn/_oldcore.py:1498: FutureWarning: is_categorical_dtype is deprecated and will be removed in a future version. Use isinstance(dtype, CategoricalDtype) instead\n",
      "  if pd.api.types.is_categorical_dtype(vector):\n",
      "/gpfs/gsfs10/users/MLDSST/nielsond/target_test/env/lib/python3.9/site-packages/seaborn/_oldcore.py:1119: FutureWarning: use_inf_as_na option is deprecated and will be removed in a future version. Convert inf values to NaN before operating instead.\n",
      "  with pd.option_context('mode.use_inf_as_na', True):\n",
      "/gpfs/gsfs10/users/MLDSST/nielsond/target_test/env/lib/python3.9/site-packages/seaborn/_oldcore.py:1498: FutureWarning: is_categorical_dtype is deprecated and will be removed in a future version. Use isinstance(dtype, CategoricalDtype) instead\n",
      "  if pd.api.types.is_categorical_dtype(vector):\n",
      "/gpfs/gsfs10/users/MLDSST/nielsond/target_test/env/lib/python3.9/site-packages/seaborn/_oldcore.py:1119: FutureWarning: use_inf_as_na option is deprecated and will be removed in a future version. Convert inf values to NaN before operating instead.\n",
      "  with pd.option_context('mode.use_inf_as_na', True):\n",
      "/gpfs/gsfs10/users/MLDSST/nielsond/target_test/env/lib/python3.9/site-packages/seaborn/_oldcore.py:1498: FutureWarning: is_categorical_dtype is deprecated and will be removed in a future version. Use isinstance(dtype, CategoricalDtype) instead\n",
      "  if pd.api.types.is_categorical_dtype(vector):\n",
      "/gpfs/gsfs10/users/MLDSST/nielsond/target_test/env/lib/python3.9/site-packages/seaborn/_oldcore.py:1119: FutureWarning: use_inf_as_na option is deprecated and will be removed in a future version. Convert inf values to NaN before operating instead.\n",
      "  with pd.option_context('mode.use_inf_as_na', True):\n"
     ]
    },
    {
     "name": "stdout",
     "output_type": "stream",
     "text": [
      "[[ 0.01242534  0.01020868]\n",
      " [ 0.01316593 -0.02630987]\n",
      " [-0.07444019 -0.00981973]\n",
      " [ 0.10003146 -0.00628146]]\n"
     ]
    },
    {
     "name": "stderr",
     "output_type": "stream",
     "text": [
      "/gpfs/gsfs10/users/MLDSST/nielsond/target_test/env/lib/python3.9/site-packages/seaborn/_oldcore.py:1498: FutureWarning: is_categorical_dtype is deprecated and will be removed in a future version. Use isinstance(dtype, CategoricalDtype) instead\n",
      "  if pd.api.types.is_categorical_dtype(vector):\n",
      "/gpfs/gsfs10/users/MLDSST/nielsond/target_test/env/lib/python3.9/site-packages/seaborn/_oldcore.py:1119: FutureWarning: use_inf_as_na option is deprecated and will be removed in a future version. Convert inf values to NaN before operating instead.\n",
      "  with pd.option_context('mode.use_inf_as_na', True):\n",
      "/gpfs/gsfs10/users/MLDSST/nielsond/target_test/env/lib/python3.9/site-packages/seaborn/_oldcore.py:1498: FutureWarning: is_categorical_dtype is deprecated and will be removed in a future version. Use isinstance(dtype, CategoricalDtype) instead\n",
      "  if pd.api.types.is_categorical_dtype(vector):\n",
      "/gpfs/gsfs10/users/MLDSST/nielsond/target_test/env/lib/python3.9/site-packages/seaborn/_oldcore.py:1119: FutureWarning: use_inf_as_na option is deprecated and will be removed in a future version. Convert inf values to NaN before operating instead.\n",
      "  with pd.option_context('mode.use_inf_as_na', True):\n",
      "/gpfs/gsfs10/users/MLDSST/nielsond/target_test/env/lib/python3.9/site-packages/seaborn/_oldcore.py:1498: FutureWarning: is_categorical_dtype is deprecated and will be removed in a future version. Use isinstance(dtype, CategoricalDtype) instead\n",
      "  if pd.api.types.is_categorical_dtype(vector):\n",
      "/gpfs/gsfs10/users/MLDSST/nielsond/target_test/env/lib/python3.9/site-packages/seaborn/_oldcore.py:1119: FutureWarning: use_inf_as_na option is deprecated and will be removed in a future version. Convert inf values to NaN before operating instead.\n",
      "  with pd.option_context('mode.use_inf_as_na', True):\n",
      "/gpfs/gsfs10/users/MLDSST/nielsond/target_test/env/lib/python3.9/site-packages/seaborn/_oldcore.py:1498: FutureWarning: is_categorical_dtype is deprecated and will be removed in a future version. Use isinstance(dtype, CategoricalDtype) instead\n",
      "  if pd.api.types.is_categorical_dtype(vector):\n",
      "/gpfs/gsfs10/users/MLDSST/nielsond/target_test/env/lib/python3.9/site-packages/seaborn/_oldcore.py:1119: FutureWarning: use_inf_as_na option is deprecated and will be removed in a future version. Convert inf values to NaN before operating instead.\n",
      "  with pd.option_context('mode.use_inf_as_na', True):\n",
      "/gpfs/gsfs10/users/MLDSST/nielsond/target_test/env/lib/python3.9/site-packages/seaborn/_oldcore.py:1498: FutureWarning: is_categorical_dtype is deprecated and will be removed in a future version. Use isinstance(dtype, CategoricalDtype) instead\n",
      "  if pd.api.types.is_categorical_dtype(vector):\n",
      "/gpfs/gsfs10/users/MLDSST/nielsond/target_test/env/lib/python3.9/site-packages/seaborn/_oldcore.py:1119: FutureWarning: use_inf_as_na option is deprecated and will be removed in a future version. Convert inf values to NaN before operating instead.\n",
      "  with pd.option_context('mode.use_inf_as_na', True):\n",
      "/gpfs/gsfs10/users/MLDSST/nielsond/target_test/env/lib/python3.9/site-packages/seaborn/_oldcore.py:1498: FutureWarning: is_categorical_dtype is deprecated and will be removed in a future version. Use isinstance(dtype, CategoricalDtype) instead\n",
      "  if pd.api.types.is_categorical_dtype(vector):\n",
      "/gpfs/gsfs10/users/MLDSST/nielsond/target_test/env/lib/python3.9/site-packages/seaborn/_oldcore.py:1119: FutureWarning: use_inf_as_na option is deprecated and will be removed in a future version. Convert inf values to NaN before operating instead.\n",
      "  with pd.option_context('mode.use_inf_as_na', True):\n"
     ]
    },
    {
     "name": "stdout",
     "output_type": "stream",
     "text": [
      "[[-0.12110625  0.11253407]\n",
      " [ 0.19348782 -0.12599072]\n",
      " [-0.05954894 -0.13300095]\n",
      " [ 0.13193052  0.11954429]]\n"
     ]
    },
    {
     "name": "stderr",
     "output_type": "stream",
     "text": [
      "/gpfs/gsfs10/users/MLDSST/nielsond/contarg/contarg/normgrid.py:775: RuntimeWarning: More than 20 figures have been opened. Figures created through the pyplot interface (`matplotlib.pyplot.figure`) are retained until explicitly closed and may consume too much memory. (To control this warning, see the rcParam `figure.max_open_warning`). Consider using `matplotlib.pyplot.close()`.\n",
      "  fig, ax = plt.subplots(1)\n",
      "/gpfs/gsfs10/users/MLDSST/nielsond/target_test/env/lib/python3.9/site-packages/seaborn/_oldcore.py:1498: FutureWarning: is_categorical_dtype is deprecated and will be removed in a future version. Use isinstance(dtype, CategoricalDtype) instead\n",
      "  if pd.api.types.is_categorical_dtype(vector):\n",
      "/gpfs/gsfs10/users/MLDSST/nielsond/target_test/env/lib/python3.9/site-packages/seaborn/_oldcore.py:1119: FutureWarning: use_inf_as_na option is deprecated and will be removed in a future version. Convert inf values to NaN before operating instead.\n",
      "  with pd.option_context('mode.use_inf_as_na', True):\n",
      "/gpfs/gsfs10/users/MLDSST/nielsond/target_test/env/lib/python3.9/site-packages/seaborn/_oldcore.py:1498: FutureWarning: is_categorical_dtype is deprecated and will be removed in a future version. Use isinstance(dtype, CategoricalDtype) instead\n",
      "  if pd.api.types.is_categorical_dtype(vector):\n",
      "/gpfs/gsfs10/users/MLDSST/nielsond/target_test/env/lib/python3.9/site-packages/seaborn/_oldcore.py:1119: FutureWarning: use_inf_as_na option is deprecated and will be removed in a future version. Convert inf values to NaN before operating instead.\n",
      "  with pd.option_context('mode.use_inf_as_na', True):\n",
      "/gpfs/gsfs10/users/MLDSST/nielsond/target_test/env/lib/python3.9/site-packages/seaborn/_oldcore.py:1498: FutureWarning: is_categorical_dtype is deprecated and will be removed in a future version. Use isinstance(dtype, CategoricalDtype) instead\n",
      "  if pd.api.types.is_categorical_dtype(vector):\n",
      "/gpfs/gsfs10/users/MLDSST/nielsond/target_test/env/lib/python3.9/site-packages/seaborn/_oldcore.py:1119: FutureWarning: use_inf_as_na option is deprecated and will be removed in a future version. Convert inf values to NaN before operating instead.\n",
      "  with pd.option_context('mode.use_inf_as_na', True):\n",
      "/gpfs/gsfs10/users/MLDSST/nielsond/target_test/env/lib/python3.9/site-packages/seaborn/_oldcore.py:1498: FutureWarning: is_categorical_dtype is deprecated and will be removed in a future version. Use isinstance(dtype, CategoricalDtype) instead\n",
      "  if pd.api.types.is_categorical_dtype(vector):\n",
      "/gpfs/gsfs10/users/MLDSST/nielsond/target_test/env/lib/python3.9/site-packages/seaborn/_oldcore.py:1119: FutureWarning: use_inf_as_na option is deprecated and will be removed in a future version. Convert inf values to NaN before operating instead.\n",
      "  with pd.option_context('mode.use_inf_as_na', True):\n",
      "/gpfs/gsfs10/users/MLDSST/nielsond/target_test/env/lib/python3.9/site-packages/seaborn/_oldcore.py:1498: FutureWarning: is_categorical_dtype is deprecated and will be removed in a future version. Use isinstance(dtype, CategoricalDtype) instead\n",
      "  if pd.api.types.is_categorical_dtype(vector):\n",
      "/gpfs/gsfs10/users/MLDSST/nielsond/target_test/env/lib/python3.9/site-packages/seaborn/_oldcore.py:1119: FutureWarning: use_inf_as_na option is deprecated and will be removed in a future version. Convert inf values to NaN before operating instead.\n",
      "  with pd.option_context('mode.use_inf_as_na', True):\n",
      "/gpfs/gsfs10/users/MLDSST/nielsond/target_test/env/lib/python3.9/site-packages/seaborn/_oldcore.py:1498: FutureWarning: is_categorical_dtype is deprecated and will be removed in a future version. Use isinstance(dtype, CategoricalDtype) instead\n",
      "  if pd.api.types.is_categorical_dtype(vector):\n",
      "/gpfs/gsfs10/users/MLDSST/nielsond/target_test/env/lib/python3.9/site-packages/seaborn/_oldcore.py:1119: FutureWarning: use_inf_as_na option is deprecated and will be removed in a future version. Convert inf values to NaN before operating instead.\n",
      "  with pd.option_context('mode.use_inf_as_na', True):\n"
     ]
    },
    {
     "name": "stdout",
     "output_type": "stream",
     "text": [
      "[[-0.07220477  0.13244869]\n",
      " [ 0.1672845  -0.1503729 ]\n",
      " [-0.11051752 -0.14280284]\n",
      " [ 0.20559726  0.12487863]]\n"
     ]
    },
    {
     "name": "stderr",
     "output_type": "stream",
     "text": [
      "/gpfs/gsfs10/users/MLDSST/nielsond/target_test/env/lib/python3.9/site-packages/seaborn/_oldcore.py:1498: FutureWarning: is_categorical_dtype is deprecated and will be removed in a future version. Use isinstance(dtype, CategoricalDtype) instead\n",
      "  if pd.api.types.is_categorical_dtype(vector):\n",
      "/gpfs/gsfs10/users/MLDSST/nielsond/target_test/env/lib/python3.9/site-packages/seaborn/_oldcore.py:1119: FutureWarning: use_inf_as_na option is deprecated and will be removed in a future version. Convert inf values to NaN before operating instead.\n",
      "  with pd.option_context('mode.use_inf_as_na', True):\n",
      "/gpfs/gsfs10/users/MLDSST/nielsond/target_test/env/lib/python3.9/site-packages/seaborn/_oldcore.py:1498: FutureWarning: is_categorical_dtype is deprecated and will be removed in a future version. Use isinstance(dtype, CategoricalDtype) instead\n",
      "  if pd.api.types.is_categorical_dtype(vector):\n",
      "/gpfs/gsfs10/users/MLDSST/nielsond/target_test/env/lib/python3.9/site-packages/seaborn/_oldcore.py:1119: FutureWarning: use_inf_as_na option is deprecated and will be removed in a future version. Convert inf values to NaN before operating instead.\n",
      "  with pd.option_context('mode.use_inf_as_na', True):\n",
      "/gpfs/gsfs10/users/MLDSST/nielsond/target_test/env/lib/python3.9/site-packages/seaborn/_oldcore.py:1498: FutureWarning: is_categorical_dtype is deprecated and will be removed in a future version. Use isinstance(dtype, CategoricalDtype) instead\n",
      "  if pd.api.types.is_categorical_dtype(vector):\n",
      "/gpfs/gsfs10/users/MLDSST/nielsond/target_test/env/lib/python3.9/site-packages/seaborn/_oldcore.py:1119: FutureWarning: use_inf_as_na option is deprecated and will be removed in a future version. Convert inf values to NaN before operating instead.\n",
      "  with pd.option_context('mode.use_inf_as_na', True):\n",
      "/gpfs/gsfs10/users/MLDSST/nielsond/target_test/env/lib/python3.9/site-packages/seaborn/_oldcore.py:1498: FutureWarning: is_categorical_dtype is deprecated and will be removed in a future version. Use isinstance(dtype, CategoricalDtype) instead\n",
      "  if pd.api.types.is_categorical_dtype(vector):\n",
      "/gpfs/gsfs10/users/MLDSST/nielsond/target_test/env/lib/python3.9/site-packages/seaborn/_oldcore.py:1119: FutureWarning: use_inf_as_na option is deprecated and will be removed in a future version. Convert inf values to NaN before operating instead.\n",
      "  with pd.option_context('mode.use_inf_as_na', True):\n",
      "/gpfs/gsfs10/users/MLDSST/nielsond/target_test/env/lib/python3.9/site-packages/seaborn/_oldcore.py:1498: FutureWarning: is_categorical_dtype is deprecated and will be removed in a future version. Use isinstance(dtype, CategoricalDtype) instead\n",
      "  if pd.api.types.is_categorical_dtype(vector):\n",
      "/gpfs/gsfs10/users/MLDSST/nielsond/target_test/env/lib/python3.9/site-packages/seaborn/_oldcore.py:1119: FutureWarning: use_inf_as_na option is deprecated and will be removed in a future version. Convert inf values to NaN before operating instead.\n",
      "  with pd.option_context('mode.use_inf_as_na', True):\n",
      "/gpfs/gsfs10/users/MLDSST/nielsond/target_test/env/lib/python3.9/site-packages/seaborn/_oldcore.py:1498: FutureWarning: is_categorical_dtype is deprecated and will be removed in a future version. Use isinstance(dtype, CategoricalDtype) instead\n",
      "  if pd.api.types.is_categorical_dtype(vector):\n",
      "/gpfs/gsfs10/users/MLDSST/nielsond/target_test/env/lib/python3.9/site-packages/seaborn/_oldcore.py:1119: FutureWarning: use_inf_as_na option is deprecated and will be removed in a future version. Convert inf values to NaN before operating instead.\n",
      "  with pd.option_context('mode.use_inf_as_na', True):\n"
     ]
    },
    {
     "name": "stdout",
     "output_type": "stream",
     "text": [
      "[[-0.11030446  0.11623521]\n",
      " [ 0.1827422  -0.14772737]\n",
      " [-0.0817625  -0.14672694]\n",
      " [ 0.15420024  0.11523478]]\n"
     ]
    }
   ],
   "source": [
    "for subject in subjects:\n",
    "    src_surf_dir = liston_root / f'sub-{subject}/anat/T1w/fsaverage_LR32k/'\n",
    "    surf_info_dir = liston_root / f'sub-{subject}/anat/MNINonLinear/fsaverage_LR32k/'\n",
    "\n",
    "    grid_out_dir = anat_dir / f'sub-{subject}/SearchGrid'\n",
    "    grid_out_dir.mkdir(exist_ok=True, parents=True)\n",
    "    grid_out = grid_out_dir / 'SearchGrid.npy'\n",
    "    grid_out_figs = grid_out_dir / 'figures'\n",
    "    grid_out_figs.mkdir(exist_ok=True, parents=True)\n",
    "\n",
    "    headmodel_dir = anat_dir /f'sub-{subject}/HeadModel'\n",
    "    sim_out_dir = anat_dir / f'sub-{subject}/Simulation'\n",
    "    \n",
    "    try:\n",
    "        stimgrid = calc_stimgrid(subject, src_surf_dir, surf_info_dir, headmodel_dir, grid_out_dir, make_plots=True, overwrite=True)\n",
    "    except ValueError as e:\n",
    "        print(f\"sub-{subject} failed with value error:\")\n",
    "        print(e)"
   ]
  },
  {
   "cell_type": "code",
   "execution_count": 29,
   "id": "75b37f37-6385-499e-9b3c-62412bf27ea8",
   "metadata": {
    "tags": []
   },
   "outputs": [],
   "source": [
    "cmds = []\n",
    "for subject in subjects:\n",
    "    headmodel_dir = anat_dir /f'sub-{subject}/HeadModel'\n",
    "    searchgrid_dir = anat_dir /f'sub-{subject}/SearchGrid'\n",
    "    out_dir = anat_dir /f'sub-{subject}/Simulation'\n",
    "    src_surf_dir = liston_root / f'sub-{subject}/anat/T1w/fsaverage_LR32k/'\n",
    "\n",
    "    cmd = [\n",
    "        'contarg',\n",
    "        'normgrid',\n",
    "        'sim-gyral-lip',\n",
    "        '--headmodel-dir',\n",
    "        headmodel_dir.as_posix(),\n",
    "        '--searchgrid-dir',\n",
    "        searchgrid_dir.as_posix(),\n",
    "        '--out-dir',\n",
    "        out_dir.as_posix(),\n",
    "        '--src-surf-dir',\n",
    "        src_surf_dir.as_posix(),\n",
    "        '--njobs',\n",
    "        \"20\"\n",
    "    ]\n",
    "    cmds.append(' '.join(cmd))"
   ]
  },
  {
   "cell_type": "code",
   "execution_count": 30,
   "id": "ccade262-d623-4e38-a5ca-35e955283301",
   "metadata": {
    "tags": []
   },
   "outputs": [],
   "source": [
    "liston_dir = Path('/data/EDB/TMSpilot/liston/')\n",
    "swarm_cmd_dir = liston_dir/'swarm/swarm_cmds'\n",
    "swarm_cmd_dir.mkdir(exist_ok=True, parents=True)\n",
    "swarm_log_dir = liston_dir/'swarm/swarm_log'\n",
    "swarm_log_dir.mkdir(exist_ok=True, parents=True)"
   ]
  },
  {
   "cell_type": "code",
   "execution_count": 31,
   "id": "9ebd1de8-cdf2-43f4-837a-257719eb8d48",
   "metadata": {
    "tags": []
   },
   "outputs": [
    {
     "name": "stdout",
     "output_type": "stream",
     "text": [
      "['14121979']\n"
     ]
    }
   ],
   "source": [
    "if len(cmds) > 0:\n",
    "    swarm_cmd_file = swarm_cmd_dir / 'gyral_opts'\n",
    "    swarm_cmd_file.write_text('\\n'.join(cmds))\n",
    "    run_name = 'gyral_opts'\n",
    "    jobid = ! swarm -f {swarm_cmd_file} -g 125 -t 22 --gres=lscratch:100 --module matlab,freesurfer/6.0,fsl,simnibs/4.0,connectome-workbench,openblas  --time 4:00:00 --logdir {swarm_log_dir} --job-name {run_name} --partition quick,norm\n",
    "    print(jobid)"
   ]
  },
  {
   "cell_type": "markdown",
   "id": "a0ff5b14-d601-46fe-b20a-4c3f74de7561",
   "metadata": {},
   "source": [
    "# Run simulations for positional uncertainty\n",
    "requires gyral lip simulations to be finished before running"
   ]
  },
  {
   "cell_type": "markdown",
   "id": "f0883adb-d1fe-4ae4-8e26-d96e6b797ff5",
   "metadata": {},
   "source": [
    "## set up dataframes with parameters for uncertainty runs"
   ]
  },
  {
   "cell_type": "code",
   "execution_count": null,
   "id": "4a0393a2-fe42-4a7f-83a3-e5cb658218b9",
   "metadata": {},
   "outputs": [],
   "source": [
    "anat_dir = Path('/data/EDB/TMSpilot/derivatives/contarg_liston/anat_preproc/')\n",
    "\n",
    "\n",
    "coil='MagVenture_MCF-B65.ccd'\n",
    "\n",
    "if not Path(coil).exists():\n",
    "    simnibs_coil_dir = Path(resource_filename('simnibs', 'resources/coil_models'))\n",
    "    coil_path = simnibs_coil_dir / f'Drakaki_BrainStim_2022/{coil}'\n",
    "    if not coil_path.exists():\n",
    "        coil_path = simnibs_coil_dir / f'legacy_and_other/{coil}'\n",
    "        if not coil_path.exists():\n",
    "            raise FileNotFoundError(f\"Could not find coil ({coil}) in {simnibs_coil_dir}.\")\n",
    "else:\n",
    "    coil_path = Path(coil)"
   ]
  },
  {
   "cell_type": "code",
   "execution_count": null,
   "id": "0c7058bf-1d14-4a7d-85c1-8a81c4f1c022",
   "metadata": {},
   "outputs": [],
   "source": [
    "nsims = 1000\n",
    "uncert_deviations_path = anat_dir / f'uncert_deviations{nsims}.npy'\n",
    "if not uncert_deviations_path.exists():\n",
    "    uncert_deviations = make_uncert_sims(5, nsims, dist_std, angle_std)\n",
    "    np.save(uncert_deviations_path, uncert_deviations)\n",
    "vine = get_prob_vine(4, dist_std, angle_std)"
   ]
  },
  {
   "cell_type": "code",
   "execution_count": null,
   "id": "8f332b9f-92e2-4eca-91d2-c39f0368abbf",
   "metadata": {},
   "outputs": [],
   "source": [
    "jobs = []\n",
    "for subject in subjects:\n",
    "    sim_dir = Path(anat_dir / f'sub-{subject}/Simulation/simulation-00')\n",
    "    if not sim_dir.exists():\n",
    "        sim_dir = Path(anat_dir / f'sub-{subject}/Simulation/simulation-01')\n",
    "        if not sim_dir.exists():\n",
    "            print(f\"{sim_dir} not found, skipping\")\n",
    "    headmodel_dir = anat_dir / f'sub-{subject}/HeadModel'\n",
    "    jobs.append(delayed(setup_uncert_sims)(headmodel_dir, sim_dir, dist_std=dist_std, angle_std=angle_std, outname=f'uncert{nsims}', uncert_deviations_path=uncert_deviations_path))\n",
    "    \n",
    "    "
   ]
  },
  {
   "cell_type": "code",
   "execution_count": null,
   "id": "5a3e2e0b-31d0-46cd-a149-b923b6fab5d0",
   "metadata": {},
   "outputs": [],
   "source": [
    "all_settings = Parallel(n_jobs=8, verbose=10)(jobs)"
   ]
  },
  {
   "cell_type": "code",
   "execution_count": null,
   "id": "d26ea3c0-524b-4556-b9c0-8c64244c13b0",
   "metadata": {},
   "outputs": [],
   "source": [
    "cmds = []\n",
    "for (subject, settings_path) in zip(subjects, all_settings):\n",
    "    settings = pd.read_pickle(settings_path)\n",
    "    for oix in sorted(settings.oix.unique()):\n",
    "        sim_dir = Path(anat_dir / f'sub-{subject}/Simulation/simulation-00')\n",
    "        if not sim_dir.exists():\n",
    "            sim_dir = Path(anat_dir / f'sub-{subject}/Simulation/simulation-01')\n",
    "            if not sim_dir.exists():\n",
    "                print(f\"{sim_dir} not found, skipping\")\n",
    "        \n",
    "        HeadModel_dir = anat_dir / f'sub-{subject}/HeadModel'\n",
    "        try:\n",
    "            m2m_dir = sorted(HeadModel_dir.glob('m2m*'))[0]\n",
    "        except IndexError:\n",
    "            raise FileNotFoundError(f\"No m2m directory found in {HeadModel_dir}\")\n",
    "        headmesh_path = m2m_dir / f'{subject}.msh'\n",
    "        \n",
    "        uncert_dir = settings_path.parent\n",
    "        uncert_out = uncert_dir / f'oix-{oix:04d}_stat-abovethreshactprobs_magnE.nii.gz'\n",
    "        if not uncert_out.exists() or overwrite:\n",
    "            cmd = [\n",
    "                'contarg',\n",
    "                'normgrid',\n",
    "                'sim-uncert',\n",
    "                '--headmesh-path',\n",
    "                headmesh_path.as_posix(),\n",
    "                '--settings-path',\n",
    "                settings_path.as_posix(),\n",
    "                '--ix',\n",
    "                f'{oix}',\n",
    "                '--coil-path',\n",
    "                coil_path.as_posix(),\n",
    "                '--tmp-dir',\n",
    "                f'/lscratch/$SLURM_JOB_ID/uncertsim-{oix}',\n",
    "                '--out-dir',\n",
    "                settings_path.parent.as_posix(),\n",
    "                '--njobs',\n",
    "                f'20'\n",
    "            ]\n",
    "            cmds.append(' '.join(cmd))"
   ]
  },
  {
   "cell_type": "code",
   "execution_count": null,
   "id": "9f035e6b-c51a-4efb-a695-68bff117e5d8",
   "metadata": {},
   "outputs": [],
   "source": [
    "# deal with 1000 job swarm limit\n",
    "if len(cmds) > 0:\n",
    "    swarm_cmd_file = swarm_cmd_dir / 'uncert_sims'\n",
    "    swarm_cmd_file.write_text('\\n'.join(cmds[:1000]))\n",
    "    run_name = 'uncert_sims'\n",
    "    jobid = ! swarm -f {swarm_cmd_file} -g 100 -t 22 --gres=lscratch:400 --module matlab,freesurfer/6.0,fsl,simnibs/4.0,connectome-workbench,openblas  --time 8:00:00 --logdir {swarm_log_dir} --job-name {run_name} --partition norm\n",
    "    print(jobid)"
   ]
  },
  {
   "cell_type": "code",
   "execution_count": null,
   "id": "1a5edf06-3ff2-434a-a75c-483444a6a713",
   "metadata": {},
   "outputs": [],
   "source": [
    "if len(cmds) > 1000:\n",
    "    swarm_cmd_file = swarm_cmd_dir / 'uncert_sims'\n",
    "    swarm_cmd_file.write_text('\\n'.join(cmds[1000:]))\n",
    "    run_name = 'uncert_sims'\n",
    "    jobid = ! swarm -f {swarm_cmd_file} -g 100 -t 22 --gres=lscratch:400 --module matlab,freesurfer/6.0,fsl,simnibs/4.0,connectome-workbench,openblas  --time 8:00:00 --logdir {swarm_log_dir} --job-name {run_name} --partition norm\n",
    "    print(jobid)"
   ]
  },
  {
   "cell_type": "markdown",
   "id": "9b57c689-33ae-4bd2-b11c-66b2b18f1e15",
   "metadata": {},
   "source": [
    "## Here's code for restarting failues"
   ]
  },
  {
   "cell_type": "code",
   "execution_count": null,
   "id": "c5d9f671-ba69-42ab-9846-bb2a560a41d7",
   "metadata": {},
   "outputs": [],
   "source": [
    "to_restart = [cmds[164], cmds[222], cmds[226], cmds[360]]\n",
    "to_restart"
   ]
  },
  {
   "cell_type": "code",
   "execution_count": null,
   "id": "cda6f022-8f12-4a8c-8a39-238d142dac5a",
   "metadata": {},
   "outputs": [],
   "source": [
    "if len(to_restart) > 0:\n",
    "    swarm_cmd_file = swarm_cmd_dir / 'retart_uncert_sims'\n",
    "    swarm_cmd_file.write_text('\\n'.join(to_restart))\n",
    "    run_name = 'restart_uncert_sims'\n",
    "    jobid = ! swarm -f {swarm_cmd_file} -g 100 -t 22 --gres=lscratch:400 --module matlab,freesurfer/6.0,fsl,simnibs/4.0,connectome-workbench,openblas  --time 4:00:00 --logdir {swarm_log_dir} --job-name {run_name} --partition quick,norm\n",
    "    print(jobid)"
   ]
  },
  {
   "cell_type": "markdown",
   "id": "f7a03ef7-64be-4f5d-86f0-bce215da0d7d",
   "metadata": {},
   "source": [
    "# Run repdist clustering on time series so we can get stats for each position\n",
    "\n",
    "This can be run in parallel with the gyral lip and uncertainty simulations above "
   ]
  },
  {
   "cell_type": "code",
   "execution_count": 23,
   "id": "e44bf5c2-e36a-418f-bc0d-3ab00d429344",
   "metadata": {
    "tags": []
   },
   "outputs": [],
   "source": [
    "jobs = []\n",
    "clusts = []\n",
    "for subject in subjects:    \n",
    "    for session in sessions:\n",
    "        for smoothing in smoothings:\n",
    "            subj_func_outdir =  outdir / f'func_preproc/sub-{subject}/'\n",
    "            ses_func_outdir = subj_func_outdir /  f'ses-{session}'\n",
    "            clust_outdir = ses_func_outdir / 'cluster'\n",
    "            lrest_dir = liston_root / f'sub-{subject}/func/rest'\n",
    "            concat_nii = lrest_dir / f'session_{session}/concatenated/Rest_session-{session}_OCME+MEICA+MGTR_Concatenated+SubcortRegression+SpatialSmoothing{smoothing}.dtseries.nii'\n",
    "            src_surf_dir = liston_root / f'sub-{subject}/anat/T1w/fsaverage_LR32k'\n",
    "            jobs.append(delayed(run_clusters)(\n",
    "                subject,\n",
    "                concat_nii,\n",
    "                clust_outdir,\n",
    "                src_surf_dir,\n",
    "                out_prefix=f'sub-{subject}_ses-{session}_smoothing-{smoothing}_',\n",
    "                overwrite=True\n",
    "            ))\n",
    "            clusts.append(dict(\n",
    "                subject = subject,\n",
    "                session = session,\n",
    "                smoothing = smoothing\n",
    "            ))\n",
    "            "
   ]
  },
  {
   "cell_type": "code",
   "execution_count": 24,
   "id": "5b9cba6c-0a5b-4c5a-b5f8-243ea35e9f32",
   "metadata": {
    "tags": []
   },
   "outputs": [
    {
     "name": "stderr",
     "output_type": "stream",
     "text": [
      "[Parallel(n_jobs=20)]: Using backend LokyBackend with 20 concurrent workers.\n",
      "[Parallel(n_jobs=20)]: Done   3 out of  14 | elapsed:   12.6s remaining:   46.3s\n",
      "[Parallel(n_jobs=20)]: Done   5 out of  14 | elapsed:   13.1s remaining:   23.5s\n",
      "[Parallel(n_jobs=20)]: Done   7 out of  14 | elapsed:   13.4s remaining:   13.4s\n",
      "[Parallel(n_jobs=20)]: Done   9 out of  14 | elapsed:   13.9s remaining:    7.7s\n",
      "[Parallel(n_jobs=20)]: Done  11 out of  14 | elapsed:   14.5s remaining:    3.9s\n"
     ]
    },
    {
     "ename": "NameError",
     "evalue": "name 'load_timeseries' is not defined",
     "output_type": "error",
     "traceback": [
      "\u001b[0;31m---------------------------------------------------------------------------\u001b[0m",
      "\u001b[0;31m_RemoteTraceback\u001b[0m                          Traceback (most recent call last)",
      "\u001b[0;31m_RemoteTraceback\u001b[0m: \n\"\"\"\nTraceback (most recent call last):\n  File \"/gpfs/gsfs10/users/MLDSST/nielsond/target_test/env/lib/python3.9/site-packages/joblib/externals/loky/process_executor.py\", line 428, in _process_worker\n    r = call_item()\n  File \"/gpfs/gsfs10/users/MLDSST/nielsond/target_test/env/lib/python3.9/site-packages/joblib/externals/loky/process_executor.py\", line 275, in __call__\n    return self.fn(*self.args, **self.kwargs)\n  File \"/gpfs/gsfs10/users/MLDSST/nielsond/target_test/env/lib/python3.9/site-packages/joblib/_parallel_backends.py\", line 620, in __call__\n    return self.func(*args, **kwargs)\n  File \"/gpfs/gsfs10/users/MLDSST/nielsond/target_test/env/lib/python3.9/site-packages/joblib/parallel.py\", line 288, in __call__\n    return [func(*args, **kwargs)\n  File \"/gpfs/gsfs10/users/MLDSST/nielsond/target_test/env/lib/python3.9/site-packages/joblib/parallel.py\", line 288, in <listcomp>\n    return [func(*args, **kwargs)\n  File \"/gpfs/gsfs10/users/MLDSST/nielsond/contarg/contarg/normgrid.py\", line 1264, in run_clusters\n    lts_data, rts_data, ts_data = load_timeseries(timeseries)\nNameError: name 'load_timeseries' is not defined\n\"\"\"",
      "\nThe above exception was the direct cause of the following exception:\n",
      "\u001b[0;31mNameError\u001b[0m                                 Traceback (most recent call last)",
      "Cell \u001b[0;32mIn[24], line 1\u001b[0m\n\u001b[0;32m----> 1\u001b[0m clustreses \u001b[38;5;241m=\u001b[39m \u001b[43mParallel\u001b[49m\u001b[43m(\u001b[49m\u001b[43mn_jobs\u001b[49m\u001b[38;5;241;43m=\u001b[39;49m\u001b[38;5;241;43m20\u001b[39;49m\u001b[43m,\u001b[49m\u001b[43m \u001b[49m\u001b[43mverbose\u001b[49m\u001b[38;5;241;43m=\u001b[39;49m\u001b[38;5;241;43m10\u001b[39;49m\u001b[43m)\u001b[49m\u001b[43m(\u001b[49m\u001b[43mjobs\u001b[49m\u001b[43m)\u001b[49m\n",
      "File \u001b[0;32m/gpfs/gsfs10/users/MLDSST/nielsond/target_test/env/lib/python3.9/site-packages/joblib/parallel.py:1098\u001b[0m, in \u001b[0;36mParallel.__call__\u001b[0;34m(self, iterable)\u001b[0m\n\u001b[1;32m   1095\u001b[0m     \u001b[38;5;28mself\u001b[39m\u001b[38;5;241m.\u001b[39m_iterating \u001b[38;5;241m=\u001b[39m \u001b[38;5;28;01mFalse\u001b[39;00m\n\u001b[1;32m   1097\u001b[0m \u001b[38;5;28;01mwith\u001b[39;00m \u001b[38;5;28mself\u001b[39m\u001b[38;5;241m.\u001b[39m_backend\u001b[38;5;241m.\u001b[39mretrieval_context():\n\u001b[0;32m-> 1098\u001b[0m     \u001b[38;5;28;43mself\u001b[39;49m\u001b[38;5;241;43m.\u001b[39;49m\u001b[43mretrieve\u001b[49m\u001b[43m(\u001b[49m\u001b[43m)\u001b[49m\n\u001b[1;32m   1099\u001b[0m \u001b[38;5;66;03m# Make sure that we get a last message telling us we are done\u001b[39;00m\n\u001b[1;32m   1100\u001b[0m elapsed_time \u001b[38;5;241m=\u001b[39m time\u001b[38;5;241m.\u001b[39mtime() \u001b[38;5;241m-\u001b[39m \u001b[38;5;28mself\u001b[39m\u001b[38;5;241m.\u001b[39m_start_time\n",
      "File \u001b[0;32m/gpfs/gsfs10/users/MLDSST/nielsond/target_test/env/lib/python3.9/site-packages/joblib/parallel.py:975\u001b[0m, in \u001b[0;36mParallel.retrieve\u001b[0;34m(self)\u001b[0m\n\u001b[1;32m    973\u001b[0m \u001b[38;5;28;01mtry\u001b[39;00m:\n\u001b[1;32m    974\u001b[0m     \u001b[38;5;28;01mif\u001b[39;00m \u001b[38;5;28mgetattr\u001b[39m(\u001b[38;5;28mself\u001b[39m\u001b[38;5;241m.\u001b[39m_backend, \u001b[38;5;124m'\u001b[39m\u001b[38;5;124msupports_timeout\u001b[39m\u001b[38;5;124m'\u001b[39m, \u001b[38;5;28;01mFalse\u001b[39;00m):\n\u001b[0;32m--> 975\u001b[0m         \u001b[38;5;28mself\u001b[39m\u001b[38;5;241m.\u001b[39m_output\u001b[38;5;241m.\u001b[39mextend(\u001b[43mjob\u001b[49m\u001b[38;5;241;43m.\u001b[39;49m\u001b[43mget\u001b[49m\u001b[43m(\u001b[49m\u001b[43mtimeout\u001b[49m\u001b[38;5;241;43m=\u001b[39;49m\u001b[38;5;28;43mself\u001b[39;49m\u001b[38;5;241;43m.\u001b[39;49m\u001b[43mtimeout\u001b[49m\u001b[43m)\u001b[49m)\n\u001b[1;32m    976\u001b[0m     \u001b[38;5;28;01melse\u001b[39;00m:\n\u001b[1;32m    977\u001b[0m         \u001b[38;5;28mself\u001b[39m\u001b[38;5;241m.\u001b[39m_output\u001b[38;5;241m.\u001b[39mextend(job\u001b[38;5;241m.\u001b[39mget())\n",
      "File \u001b[0;32m/gpfs/gsfs10/users/MLDSST/nielsond/target_test/env/lib/python3.9/site-packages/joblib/_parallel_backends.py:567\u001b[0m, in \u001b[0;36mLokyBackend.wrap_future_result\u001b[0;34m(future, timeout)\u001b[0m\n\u001b[1;32m    564\u001b[0m \u001b[38;5;250m\u001b[39m\u001b[38;5;124;03m\"\"\"Wrapper for Future.result to implement the same behaviour as\u001b[39;00m\n\u001b[1;32m    565\u001b[0m \u001b[38;5;124;03mAsyncResults.get from multiprocessing.\"\"\"\u001b[39;00m\n\u001b[1;32m    566\u001b[0m \u001b[38;5;28;01mtry\u001b[39;00m:\n\u001b[0;32m--> 567\u001b[0m     \u001b[38;5;28;01mreturn\u001b[39;00m \u001b[43mfuture\u001b[49m\u001b[38;5;241;43m.\u001b[39;49m\u001b[43mresult\u001b[49m\u001b[43m(\u001b[49m\u001b[43mtimeout\u001b[49m\u001b[38;5;241;43m=\u001b[39;49m\u001b[43mtimeout\u001b[49m\u001b[43m)\u001b[49m\n\u001b[1;32m    568\u001b[0m \u001b[38;5;28;01mexcept\u001b[39;00m CfTimeoutError \u001b[38;5;28;01mas\u001b[39;00m e:\n\u001b[1;32m    569\u001b[0m     \u001b[38;5;28;01mraise\u001b[39;00m \u001b[38;5;167;01mTimeoutError\u001b[39;00m \u001b[38;5;28;01mfrom\u001b[39;00m \u001b[38;5;21;01me\u001b[39;00m\n",
      "File \u001b[0;32m/gpfs/gsfs10/users/MLDSST/nielsond/target_test/env/lib/python3.9/concurrent/futures/_base.py:446\u001b[0m, in \u001b[0;36mFuture.result\u001b[0;34m(self, timeout)\u001b[0m\n\u001b[1;32m    444\u001b[0m     \u001b[38;5;28;01mraise\u001b[39;00m CancelledError()\n\u001b[1;32m    445\u001b[0m \u001b[38;5;28;01melif\u001b[39;00m \u001b[38;5;28mself\u001b[39m\u001b[38;5;241m.\u001b[39m_state \u001b[38;5;241m==\u001b[39m FINISHED:\n\u001b[0;32m--> 446\u001b[0m     \u001b[38;5;28;01mreturn\u001b[39;00m \u001b[38;5;28;43mself\u001b[39;49m\u001b[38;5;241;43m.\u001b[39;49m\u001b[43m__get_result\u001b[49m\u001b[43m(\u001b[49m\u001b[43m)\u001b[49m\n\u001b[1;32m    447\u001b[0m \u001b[38;5;28;01melse\u001b[39;00m:\n\u001b[1;32m    448\u001b[0m     \u001b[38;5;28;01mraise\u001b[39;00m \u001b[38;5;167;01mTimeoutError\u001b[39;00m()\n",
      "File \u001b[0;32m/gpfs/gsfs10/users/MLDSST/nielsond/target_test/env/lib/python3.9/concurrent/futures/_base.py:391\u001b[0m, in \u001b[0;36mFuture.__get_result\u001b[0;34m(self)\u001b[0m\n\u001b[1;32m    389\u001b[0m \u001b[38;5;28;01mif\u001b[39;00m \u001b[38;5;28mself\u001b[39m\u001b[38;5;241m.\u001b[39m_exception:\n\u001b[1;32m    390\u001b[0m     \u001b[38;5;28;01mtry\u001b[39;00m:\n\u001b[0;32m--> 391\u001b[0m         \u001b[38;5;28;01mraise\u001b[39;00m \u001b[38;5;28mself\u001b[39m\u001b[38;5;241m.\u001b[39m_exception\n\u001b[1;32m    392\u001b[0m     \u001b[38;5;28;01mfinally\u001b[39;00m:\n\u001b[1;32m    393\u001b[0m         \u001b[38;5;66;03m# Break a reference cycle with the exception in self._exception\u001b[39;00m\n\u001b[1;32m    394\u001b[0m         \u001b[38;5;28mself\u001b[39m \u001b[38;5;241m=\u001b[39m \u001b[38;5;28;01mNone\u001b[39;00m\n",
      "\u001b[0;31mNameError\u001b[0m: name 'load_timeseries' is not defined"
     ]
    }
   ],
   "source": [
    "clustreses = Parallel(n_jobs=20, verbose=10)(jobs)"
   ]
  },
  {
   "cell_type": "code",
   "execution_count": null,
   "id": "02252a63-8853-4732-a2f9-cd3db6911e15",
   "metadata": {},
   "outputs": [],
   "source": []
  }
 ],
 "metadata": {
  "kernelspec": {
   "display_name": "Python 3 (ipykernel)",
   "language": "python",
   "name": "python3"
  },
  "language_info": {
   "codemirror_mode": {
    "name": "ipython",
    "version": 3
   },
   "file_extension": ".py",
   "mimetype": "text/x-python",
   "name": "python",
   "nbconvert_exporter": "python",
   "pygments_lexer": "ipython3",
   "version": "3.9.15"
  }
 },
 "nbformat": 4,
 "nbformat_minor": 5
}
